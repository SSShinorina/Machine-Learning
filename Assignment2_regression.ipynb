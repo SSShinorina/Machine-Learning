{
 "cells": [
  {
   "cell_type": "markdown",
   "metadata": {},
   "source": [
    "#### Welcome to Assingment  2 of Machine Learning Course 5DV194! \n",
    "The task is to develop regression algorithms to predict house prices.\n",
    "#### Deadline of Assignment 2:\n",
    "28 Feb, 2022 (17:00 Stockholm time)\n",
    "\n",
    "\n",
    "#### Goal \n",
    "To practice linear regression and neural network on housing price prediction. Additionally, to get familiar with the libraries of pandas (e.g., data frame), tensorflow (e.g., sequential), sklearn (e.g., linear regression, ridge regression, preprocessing).\n",
    "#### Dataset\n",
    "The Boston Housing Dataset\n",
    "https://www.cs.toronto.edu/~delve/data/boston/bostonDetail.html     \n",
    "Read it in order to know the meaning of different attributes (e.g, RM - average number of rooms per dwelling)\n",
    "\n",
    " \n",
    "\n",
    "#### Grading (200 points) \n",
    "Follow this jupyter notebook file below, you will find some Tasks (answer by coding) and Questions(answer by text).\n",
    "No report is needed.\n",
    " \n",
    "Compress all required files (e.g., Assignment2_regression.ipynb, new dataset file) in a zip file and name the zip file in the format of \"FirstName_LastName_assignment2.zip\"  upload to Canvas/Assignments/Assignment-2.\n"
   ]
  },
  {
   "cell_type": "raw",
   "metadata": {},
   "source": [
    "# In order to run the following codes, you need to install some libraries, such as pandas, numpy, matplotlib, seaborn, tensorlfow, scikit-learn. \n",
    "# You can try command 'conda install pandas' or 'pip install pandas'. \n",
    "# Or you can list all libraries in a txt file (e.g., yourFileName.txt), one per line, and install them once using 'pip install -r yourFileName.txt'"
   ]
  },
  {
   "cell_type": "markdown",
   "metadata": {},
   "source": [
    "## Import  some libraries"
   ]
  },
  {
   "cell_type": "code",
   "execution_count": 1,
   "metadata": {},
   "outputs": [],
   "source": [
    "import pandas as pd\n",
    "import matplotlib.pyplot as plt\n",
    "import seaborn as sns\n",
    "%matplotlib inline"
   ]
  },
  {
   "cell_type": "markdown",
   "metadata": {},
   "source": [
    "#### Task-1: import the library of 'numpy' and give it an alias as \"np\" (2 points)"
   ]
  },
  {
   "cell_type": "code",
   "execution_count": 2,
   "metadata": {},
   "outputs": [],
   "source": [
    "import numpy as np"
   ]
  },
  {
   "cell_type": "markdown",
   "metadata": {},
   "source": [
    "## Get the data"
   ]
  },
  {
   "cell_type": "code",
   "execution_count": 3,
   "metadata": {},
   "outputs": [],
   "source": [
    "from sklearn.datasets import load_boston\n",
    "housing_data = load_boston()"
   ]
  },
  {
   "cell_type": "markdown",
   "metadata": {},
   "source": [
    "## Explore the data a bit"
   ]
  },
  {
   "cell_type": "code",
   "execution_count": 4,
   "metadata": {},
   "outputs": [
    {
     "name": "stdout",
     "output_type": "stream",
     "text": [
      "dict_keys(['data', 'target', 'feature_names', 'DESCR', 'filename'])\n"
     ]
    }
   ],
   "source": [
    "# Checing the keys of the dataset, which is in dictionary format.\n",
    "print(housing_data.keys())"
   ]
  },
  {
   "cell_type": "code",
   "execution_count": 5,
   "metadata": {},
   "outputs": [
    {
     "name": "stdout",
     "output_type": "stream",
     "text": [
      ".. _boston_dataset:\n",
      "\n",
      "Boston house prices dataset\n",
      "---------------------------\n",
      "\n",
      "**Data Set Characteristics:**  \n",
      "\n",
      "    :Number of Instances: 506 \n",
      "\n",
      "    :Number of Attributes: 13 numeric/categorical predictive. Median Value (attribute 14) is usually the target.\n",
      "\n",
      "    :Attribute Information (in order):\n",
      "        - CRIM     per capita crime rate by town\n",
      "        - ZN       proportion of residential land zoned for lots over 25,000 sq.ft.\n",
      "        - INDUS    proportion of non-retail business acres per town\n",
      "        - CHAS     Charles River dummy variable (= 1 if tract bounds river; 0 otherwise)\n",
      "        - NOX      nitric oxides concentration (parts per 10 million)\n",
      "        - RM       average number of rooms per dwelling\n",
      "        - AGE      proportion of owner-occupied units built prior to 1940\n",
      "        - DIS      weighted distances to five Boston employment centres\n",
      "        - RAD      index of accessibility to radial highways\n",
      "        - TAX      full-value property-tax rate per $10,000\n",
      "        - PTRATIO  pupil-teacher ratio by town\n",
      "        - B        1000(Bk - 0.63)^2 where Bk is the proportion of blacks by town\n",
      "        - LSTAT    % lower status of the population\n",
      "        - MEDV     Median value of owner-occupied homes in $1000's\n",
      "\n",
      "    :Missing Attribute Values: None\n",
      "\n",
      "    :Creator: Harrison, D. and Rubinfeld, D.L.\n",
      "\n",
      "This is a copy of UCI ML housing dataset.\n",
      "https://archive.ics.uci.edu/ml/machine-learning-databases/housing/\n",
      "\n",
      "\n",
      "This dataset was taken from the StatLib library which is maintained at Carnegie Mellon University.\n",
      "\n",
      "The Boston house-price data of Harrison, D. and Rubinfeld, D.L. 'Hedonic\n",
      "prices and the demand for clean air', J. Environ. Economics & Management,\n",
      "vol.5, 81-102, 1978.   Used in Belsley, Kuh & Welsch, 'Regression diagnostics\n",
      "...', Wiley, 1980.   N.B. Various transformations are used in the table on\n",
      "pages 244-261 of the latter.\n",
      "\n",
      "The Boston house-price data has been used in many machine learning papers that address regression\n",
      "problems.   \n",
      "     \n",
      ".. topic:: References\n",
      "\n",
      "   - Belsley, Kuh & Welsch, 'Regression diagnostics: Identifying Influential Data and Sources of Collinearity', Wiley, 1980. 244-261.\n",
      "   - Quinlan,R. (1993). Combining Instance-Based and Model-Based Learning. In Proceedings on the Tenth International Conference of Machine Learning, 236-243, University of Massachusetts, Amherst. Morgan Kaufmann.\n",
      "\n"
     ]
    }
   ],
   "source": [
    "# Checking description of the dataset\n",
    "print (housing_data[\"DESCR\"])"
   ]
  },
  {
   "cell_type": "code",
   "execution_count": 6,
   "metadata": {},
   "outputs": [],
   "source": [
    "# Converting the data into Data Frame using pandas\n",
    "boston = pd.DataFrame(housing_data.data)\n",
    "#Assigning feature-names to colums of data frame\n",
    "boston.columns = housing_data.feature_names"
   ]
  },
  {
   "cell_type": "markdown",
   "metadata": {},
   "source": [
    "#### Task-2: Print the first ten rows for the dataframe boston (2 points)"
   ]
  },
  {
   "cell_type": "code",
   "execution_count": 7,
   "metadata": {
    "scrolled": true
   },
   "outputs": [
    {
     "data": {
      "text/html": [
       "<div>\n",
       "<style scoped>\n",
       "    .dataframe tbody tr th:only-of-type {\n",
       "        vertical-align: middle;\n",
       "    }\n",
       "\n",
       "    .dataframe tbody tr th {\n",
       "        vertical-align: top;\n",
       "    }\n",
       "\n",
       "    .dataframe thead th {\n",
       "        text-align: right;\n",
       "    }\n",
       "</style>\n",
       "<table border=\"1\" class=\"dataframe\">\n",
       "  <thead>\n",
       "    <tr style=\"text-align: right;\">\n",
       "      <th></th>\n",
       "      <th>CRIM</th>\n",
       "      <th>ZN</th>\n",
       "      <th>INDUS</th>\n",
       "      <th>CHAS</th>\n",
       "      <th>NOX</th>\n",
       "      <th>RM</th>\n",
       "      <th>AGE</th>\n",
       "      <th>DIS</th>\n",
       "      <th>RAD</th>\n",
       "      <th>TAX</th>\n",
       "      <th>PTRATIO</th>\n",
       "      <th>B</th>\n",
       "      <th>LSTAT</th>\n",
       "    </tr>\n",
       "  </thead>\n",
       "  <tbody>\n",
       "    <tr>\n",
       "      <th>0</th>\n",
       "      <td>0.00632</td>\n",
       "      <td>18.0</td>\n",
       "      <td>2.31</td>\n",
       "      <td>0.0</td>\n",
       "      <td>0.538</td>\n",
       "      <td>6.575</td>\n",
       "      <td>65.2</td>\n",
       "      <td>4.0900</td>\n",
       "      <td>1.0</td>\n",
       "      <td>296.0</td>\n",
       "      <td>15.3</td>\n",
       "      <td>396.90</td>\n",
       "      <td>4.98</td>\n",
       "    </tr>\n",
       "    <tr>\n",
       "      <th>1</th>\n",
       "      <td>0.02731</td>\n",
       "      <td>0.0</td>\n",
       "      <td>7.07</td>\n",
       "      <td>0.0</td>\n",
       "      <td>0.469</td>\n",
       "      <td>6.421</td>\n",
       "      <td>78.9</td>\n",
       "      <td>4.9671</td>\n",
       "      <td>2.0</td>\n",
       "      <td>242.0</td>\n",
       "      <td>17.8</td>\n",
       "      <td>396.90</td>\n",
       "      <td>9.14</td>\n",
       "    </tr>\n",
       "    <tr>\n",
       "      <th>2</th>\n",
       "      <td>0.02729</td>\n",
       "      <td>0.0</td>\n",
       "      <td>7.07</td>\n",
       "      <td>0.0</td>\n",
       "      <td>0.469</td>\n",
       "      <td>7.185</td>\n",
       "      <td>61.1</td>\n",
       "      <td>4.9671</td>\n",
       "      <td>2.0</td>\n",
       "      <td>242.0</td>\n",
       "      <td>17.8</td>\n",
       "      <td>392.83</td>\n",
       "      <td>4.03</td>\n",
       "    </tr>\n",
       "    <tr>\n",
       "      <th>3</th>\n",
       "      <td>0.03237</td>\n",
       "      <td>0.0</td>\n",
       "      <td>2.18</td>\n",
       "      <td>0.0</td>\n",
       "      <td>0.458</td>\n",
       "      <td>6.998</td>\n",
       "      <td>45.8</td>\n",
       "      <td>6.0622</td>\n",
       "      <td>3.0</td>\n",
       "      <td>222.0</td>\n",
       "      <td>18.7</td>\n",
       "      <td>394.63</td>\n",
       "      <td>2.94</td>\n",
       "    </tr>\n",
       "    <tr>\n",
       "      <th>4</th>\n",
       "      <td>0.06905</td>\n",
       "      <td>0.0</td>\n",
       "      <td>2.18</td>\n",
       "      <td>0.0</td>\n",
       "      <td>0.458</td>\n",
       "      <td>7.147</td>\n",
       "      <td>54.2</td>\n",
       "      <td>6.0622</td>\n",
       "      <td>3.0</td>\n",
       "      <td>222.0</td>\n",
       "      <td>18.7</td>\n",
       "      <td>396.90</td>\n",
       "      <td>5.33</td>\n",
       "    </tr>\n",
       "    <tr>\n",
       "      <th>5</th>\n",
       "      <td>0.02985</td>\n",
       "      <td>0.0</td>\n",
       "      <td>2.18</td>\n",
       "      <td>0.0</td>\n",
       "      <td>0.458</td>\n",
       "      <td>6.430</td>\n",
       "      <td>58.7</td>\n",
       "      <td>6.0622</td>\n",
       "      <td>3.0</td>\n",
       "      <td>222.0</td>\n",
       "      <td>18.7</td>\n",
       "      <td>394.12</td>\n",
       "      <td>5.21</td>\n",
       "    </tr>\n",
       "    <tr>\n",
       "      <th>6</th>\n",
       "      <td>0.08829</td>\n",
       "      <td>12.5</td>\n",
       "      <td>7.87</td>\n",
       "      <td>0.0</td>\n",
       "      <td>0.524</td>\n",
       "      <td>6.012</td>\n",
       "      <td>66.6</td>\n",
       "      <td>5.5605</td>\n",
       "      <td>5.0</td>\n",
       "      <td>311.0</td>\n",
       "      <td>15.2</td>\n",
       "      <td>395.60</td>\n",
       "      <td>12.43</td>\n",
       "    </tr>\n",
       "    <tr>\n",
       "      <th>7</th>\n",
       "      <td>0.14455</td>\n",
       "      <td>12.5</td>\n",
       "      <td>7.87</td>\n",
       "      <td>0.0</td>\n",
       "      <td>0.524</td>\n",
       "      <td>6.172</td>\n",
       "      <td>96.1</td>\n",
       "      <td>5.9505</td>\n",
       "      <td>5.0</td>\n",
       "      <td>311.0</td>\n",
       "      <td>15.2</td>\n",
       "      <td>396.90</td>\n",
       "      <td>19.15</td>\n",
       "    </tr>\n",
       "    <tr>\n",
       "      <th>8</th>\n",
       "      <td>0.21124</td>\n",
       "      <td>12.5</td>\n",
       "      <td>7.87</td>\n",
       "      <td>0.0</td>\n",
       "      <td>0.524</td>\n",
       "      <td>5.631</td>\n",
       "      <td>100.0</td>\n",
       "      <td>6.0821</td>\n",
       "      <td>5.0</td>\n",
       "      <td>311.0</td>\n",
       "      <td>15.2</td>\n",
       "      <td>386.63</td>\n",
       "      <td>29.93</td>\n",
       "    </tr>\n",
       "    <tr>\n",
       "      <th>9</th>\n",
       "      <td>0.17004</td>\n",
       "      <td>12.5</td>\n",
       "      <td>7.87</td>\n",
       "      <td>0.0</td>\n",
       "      <td>0.524</td>\n",
       "      <td>6.004</td>\n",
       "      <td>85.9</td>\n",
       "      <td>6.5921</td>\n",
       "      <td>5.0</td>\n",
       "      <td>311.0</td>\n",
       "      <td>15.2</td>\n",
       "      <td>386.71</td>\n",
       "      <td>17.10</td>\n",
       "    </tr>\n",
       "  </tbody>\n",
       "</table>\n",
       "</div>"
      ],
      "text/plain": [
       "      CRIM    ZN  INDUS  CHAS    NOX     RM    AGE     DIS  RAD    TAX  \\\n",
       "0  0.00632  18.0   2.31   0.0  0.538  6.575   65.2  4.0900  1.0  296.0   \n",
       "1  0.02731   0.0   7.07   0.0  0.469  6.421   78.9  4.9671  2.0  242.0   \n",
       "2  0.02729   0.0   7.07   0.0  0.469  7.185   61.1  4.9671  2.0  242.0   \n",
       "3  0.03237   0.0   2.18   0.0  0.458  6.998   45.8  6.0622  3.0  222.0   \n",
       "4  0.06905   0.0   2.18   0.0  0.458  7.147   54.2  6.0622  3.0  222.0   \n",
       "5  0.02985   0.0   2.18   0.0  0.458  6.430   58.7  6.0622  3.0  222.0   \n",
       "6  0.08829  12.5   7.87   0.0  0.524  6.012   66.6  5.5605  5.0  311.0   \n",
       "7  0.14455  12.5   7.87   0.0  0.524  6.172   96.1  5.9505  5.0  311.0   \n",
       "8  0.21124  12.5   7.87   0.0  0.524  5.631  100.0  6.0821  5.0  311.0   \n",
       "9  0.17004  12.5   7.87   0.0  0.524  6.004   85.9  6.5921  5.0  311.0   \n",
       "\n",
       "   PTRATIO       B  LSTAT  \n",
       "0     15.3  396.90   4.98  \n",
       "1     17.8  396.90   9.14  \n",
       "2     17.8  392.83   4.03  \n",
       "3     18.7  394.63   2.94  \n",
       "4     18.7  396.90   5.33  \n",
       "5     18.7  394.12   5.21  \n",
       "6     15.2  395.60  12.43  \n",
       "7     15.2  396.90  19.15  \n",
       "8     15.2  386.63  29.93  \n",
       "9     15.2  386.71  17.10  "
      ]
     },
     "execution_count": 7,
     "metadata": {},
     "output_type": "execute_result"
    }
   ],
   "source": [
    "boston.head(10)"
   ]
  },
  {
   "cell_type": "code",
   "execution_count": 8,
   "metadata": {},
   "outputs": [
    {
     "data": {
      "text/html": [
       "<div>\n",
       "<style scoped>\n",
       "    .dataframe tbody tr th:only-of-type {\n",
       "        vertical-align: middle;\n",
       "    }\n",
       "\n",
       "    .dataframe tbody tr th {\n",
       "        vertical-align: top;\n",
       "    }\n",
       "\n",
       "    .dataframe thead th {\n",
       "        text-align: right;\n",
       "    }\n",
       "</style>\n",
       "<table border=\"1\" class=\"dataframe\">\n",
       "  <thead>\n",
       "    <tr style=\"text-align: right;\">\n",
       "      <th></th>\n",
       "      <th>CRIM</th>\n",
       "      <th>ZN</th>\n",
       "      <th>INDUS</th>\n",
       "      <th>CHAS</th>\n",
       "      <th>NOX</th>\n",
       "      <th>RM</th>\n",
       "      <th>AGE</th>\n",
       "      <th>DIS</th>\n",
       "      <th>RAD</th>\n",
       "      <th>TAX</th>\n",
       "      <th>PTRATIO</th>\n",
       "      <th>B</th>\n",
       "      <th>LSTAT</th>\n",
       "      <th>PRICE</th>\n",
       "    </tr>\n",
       "  </thead>\n",
       "  <tbody>\n",
       "    <tr>\n",
       "      <th>0</th>\n",
       "      <td>0.00632</td>\n",
       "      <td>18.0</td>\n",
       "      <td>2.31</td>\n",
       "      <td>0.0</td>\n",
       "      <td>0.538</td>\n",
       "      <td>6.575</td>\n",
       "      <td>65.2</td>\n",
       "      <td>4.0900</td>\n",
       "      <td>1.0</td>\n",
       "      <td>296.0</td>\n",
       "      <td>15.3</td>\n",
       "      <td>396.90</td>\n",
       "      <td>4.98</td>\n",
       "      <td>24.0</td>\n",
       "    </tr>\n",
       "    <tr>\n",
       "      <th>1</th>\n",
       "      <td>0.02731</td>\n",
       "      <td>0.0</td>\n",
       "      <td>7.07</td>\n",
       "      <td>0.0</td>\n",
       "      <td>0.469</td>\n",
       "      <td>6.421</td>\n",
       "      <td>78.9</td>\n",
       "      <td>4.9671</td>\n",
       "      <td>2.0</td>\n",
       "      <td>242.0</td>\n",
       "      <td>17.8</td>\n",
       "      <td>396.90</td>\n",
       "      <td>9.14</td>\n",
       "      <td>21.6</td>\n",
       "    </tr>\n",
       "    <tr>\n",
       "      <th>2</th>\n",
       "      <td>0.02729</td>\n",
       "      <td>0.0</td>\n",
       "      <td>7.07</td>\n",
       "      <td>0.0</td>\n",
       "      <td>0.469</td>\n",
       "      <td>7.185</td>\n",
       "      <td>61.1</td>\n",
       "      <td>4.9671</td>\n",
       "      <td>2.0</td>\n",
       "      <td>242.0</td>\n",
       "      <td>17.8</td>\n",
       "      <td>392.83</td>\n",
       "      <td>4.03</td>\n",
       "      <td>34.7</td>\n",
       "    </tr>\n",
       "    <tr>\n",
       "      <th>3</th>\n",
       "      <td>0.03237</td>\n",
       "      <td>0.0</td>\n",
       "      <td>2.18</td>\n",
       "      <td>0.0</td>\n",
       "      <td>0.458</td>\n",
       "      <td>6.998</td>\n",
       "      <td>45.8</td>\n",
       "      <td>6.0622</td>\n",
       "      <td>3.0</td>\n",
       "      <td>222.0</td>\n",
       "      <td>18.7</td>\n",
       "      <td>394.63</td>\n",
       "      <td>2.94</td>\n",
       "      <td>33.4</td>\n",
       "    </tr>\n",
       "    <tr>\n",
       "      <th>4</th>\n",
       "      <td>0.06905</td>\n",
       "      <td>0.0</td>\n",
       "      <td>2.18</td>\n",
       "      <td>0.0</td>\n",
       "      <td>0.458</td>\n",
       "      <td>7.147</td>\n",
       "      <td>54.2</td>\n",
       "      <td>6.0622</td>\n",
       "      <td>3.0</td>\n",
       "      <td>222.0</td>\n",
       "      <td>18.7</td>\n",
       "      <td>396.90</td>\n",
       "      <td>5.33</td>\n",
       "      <td>36.2</td>\n",
       "    </tr>\n",
       "  </tbody>\n",
       "</table>\n",
       "</div>"
      ],
      "text/plain": [
       "      CRIM    ZN  INDUS  CHAS    NOX     RM   AGE     DIS  RAD    TAX  \\\n",
       "0  0.00632  18.0   2.31   0.0  0.538  6.575  65.2  4.0900  1.0  296.0   \n",
       "1  0.02731   0.0   7.07   0.0  0.469  6.421  78.9  4.9671  2.0  242.0   \n",
       "2  0.02729   0.0   7.07   0.0  0.469  7.185  61.1  4.9671  2.0  242.0   \n",
       "3  0.03237   0.0   2.18   0.0  0.458  6.998  45.8  6.0622  3.0  222.0   \n",
       "4  0.06905   0.0   2.18   0.0  0.458  7.147  54.2  6.0622  3.0  222.0   \n",
       "\n",
       "   PTRATIO       B  LSTAT  PRICE  \n",
       "0     15.3  396.90   4.98   24.0  \n",
       "1     17.8  396.90   9.14   21.6  \n",
       "2     17.8  392.83   4.03   34.7  \n",
       "3     18.7  394.63   2.94   33.4  \n",
       "4     18.7  396.90   5.33   36.2  "
      ]
     },
     "execution_count": 8,
     "metadata": {},
     "output_type": "execute_result"
    }
   ],
   "source": [
    "#Adding the target column Price to the data frame\n",
    "boston['PRICE'] = housing_data.target\n",
    "boston.head()"
   ]
  },
  {
   "cell_type": "code",
   "execution_count": 9,
   "metadata": {},
   "outputs": [
    {
     "name": "stdout",
     "output_type": "stream",
     "text": [
      "<class 'pandas.core.frame.DataFrame'>\n",
      "RangeIndex: 506 entries, 0 to 505\n",
      "Data columns (total 14 columns):\n",
      " #   Column   Non-Null Count  Dtype  \n",
      "---  ------   --------------  -----  \n",
      " 0   CRIM     506 non-null    float64\n",
      " 1   ZN       506 non-null    float64\n",
      " 2   INDUS    506 non-null    float64\n",
      " 3   CHAS     506 non-null    float64\n",
      " 4   NOX      506 non-null    float64\n",
      " 5   RM       506 non-null    float64\n",
      " 6   AGE      506 non-null    float64\n",
      " 7   DIS      506 non-null    float64\n",
      " 8   RAD      506 non-null    float64\n",
      " 9   TAX      506 non-null    float64\n",
      " 10  PTRATIO  506 non-null    float64\n",
      " 11  B        506 non-null    float64\n",
      " 12  LSTAT    506 non-null    float64\n",
      " 13  PRICE    506 non-null    float64\n",
      "dtypes: float64(14)\n",
      "memory usage: 55.5 KB\n"
     ]
    }
   ],
   "source": [
    "# Let's see how the data structure looks like now\n",
    "boston.info()"
   ]
  },
  {
   "cell_type": "markdown",
   "metadata": {},
   "source": [
    "#### Task-3: Return the Summary Statistic of the numeric columns for dataframe boston by applying the method 'describe' of data frame. (2 points)"
   ]
  },
  {
   "cell_type": "code",
   "execution_count": 10,
   "metadata": {},
   "outputs": [
    {
     "data": {
      "text/html": [
       "<div>\n",
       "<style scoped>\n",
       "    .dataframe tbody tr th:only-of-type {\n",
       "        vertical-align: middle;\n",
       "    }\n",
       "\n",
       "    .dataframe tbody tr th {\n",
       "        vertical-align: top;\n",
       "    }\n",
       "\n",
       "    .dataframe thead th {\n",
       "        text-align: right;\n",
       "    }\n",
       "</style>\n",
       "<table border=\"1\" class=\"dataframe\">\n",
       "  <thead>\n",
       "    <tr style=\"text-align: right;\">\n",
       "      <th></th>\n",
       "      <th>CRIM</th>\n",
       "      <th>ZN</th>\n",
       "      <th>INDUS</th>\n",
       "      <th>CHAS</th>\n",
       "      <th>NOX</th>\n",
       "      <th>RM</th>\n",
       "      <th>AGE</th>\n",
       "      <th>DIS</th>\n",
       "      <th>RAD</th>\n",
       "      <th>TAX</th>\n",
       "      <th>PTRATIO</th>\n",
       "      <th>B</th>\n",
       "      <th>LSTAT</th>\n",
       "      <th>PRICE</th>\n",
       "    </tr>\n",
       "  </thead>\n",
       "  <tbody>\n",
       "    <tr>\n",
       "      <th>count</th>\n",
       "      <td>506.000000</td>\n",
       "      <td>506.000000</td>\n",
       "      <td>506.000000</td>\n",
       "      <td>506.000000</td>\n",
       "      <td>506.000000</td>\n",
       "      <td>506.000000</td>\n",
       "      <td>506.000000</td>\n",
       "      <td>506.000000</td>\n",
       "      <td>506.000000</td>\n",
       "      <td>506.000000</td>\n",
       "      <td>506.000000</td>\n",
       "      <td>506.000000</td>\n",
       "      <td>506.000000</td>\n",
       "      <td>506.000000</td>\n",
       "    </tr>\n",
       "    <tr>\n",
       "      <th>mean</th>\n",
       "      <td>3.613524</td>\n",
       "      <td>11.363636</td>\n",
       "      <td>11.136779</td>\n",
       "      <td>0.069170</td>\n",
       "      <td>0.554695</td>\n",
       "      <td>6.284634</td>\n",
       "      <td>68.574901</td>\n",
       "      <td>3.795043</td>\n",
       "      <td>9.549407</td>\n",
       "      <td>408.237154</td>\n",
       "      <td>18.455534</td>\n",
       "      <td>356.674032</td>\n",
       "      <td>12.653063</td>\n",
       "      <td>22.532806</td>\n",
       "    </tr>\n",
       "    <tr>\n",
       "      <th>std</th>\n",
       "      <td>8.601545</td>\n",
       "      <td>23.322453</td>\n",
       "      <td>6.860353</td>\n",
       "      <td>0.253994</td>\n",
       "      <td>0.115878</td>\n",
       "      <td>0.702617</td>\n",
       "      <td>28.148861</td>\n",
       "      <td>2.105710</td>\n",
       "      <td>8.707259</td>\n",
       "      <td>168.537116</td>\n",
       "      <td>2.164946</td>\n",
       "      <td>91.294864</td>\n",
       "      <td>7.141062</td>\n",
       "      <td>9.197104</td>\n",
       "    </tr>\n",
       "    <tr>\n",
       "      <th>min</th>\n",
       "      <td>0.006320</td>\n",
       "      <td>0.000000</td>\n",
       "      <td>0.460000</td>\n",
       "      <td>0.000000</td>\n",
       "      <td>0.385000</td>\n",
       "      <td>3.561000</td>\n",
       "      <td>2.900000</td>\n",
       "      <td>1.129600</td>\n",
       "      <td>1.000000</td>\n",
       "      <td>187.000000</td>\n",
       "      <td>12.600000</td>\n",
       "      <td>0.320000</td>\n",
       "      <td>1.730000</td>\n",
       "      <td>5.000000</td>\n",
       "    </tr>\n",
       "    <tr>\n",
       "      <th>25%</th>\n",
       "      <td>0.082045</td>\n",
       "      <td>0.000000</td>\n",
       "      <td>5.190000</td>\n",
       "      <td>0.000000</td>\n",
       "      <td>0.449000</td>\n",
       "      <td>5.885500</td>\n",
       "      <td>45.025000</td>\n",
       "      <td>2.100175</td>\n",
       "      <td>4.000000</td>\n",
       "      <td>279.000000</td>\n",
       "      <td>17.400000</td>\n",
       "      <td>375.377500</td>\n",
       "      <td>6.950000</td>\n",
       "      <td>17.025000</td>\n",
       "    </tr>\n",
       "    <tr>\n",
       "      <th>50%</th>\n",
       "      <td>0.256510</td>\n",
       "      <td>0.000000</td>\n",
       "      <td>9.690000</td>\n",
       "      <td>0.000000</td>\n",
       "      <td>0.538000</td>\n",
       "      <td>6.208500</td>\n",
       "      <td>77.500000</td>\n",
       "      <td>3.207450</td>\n",
       "      <td>5.000000</td>\n",
       "      <td>330.000000</td>\n",
       "      <td>19.050000</td>\n",
       "      <td>391.440000</td>\n",
       "      <td>11.360000</td>\n",
       "      <td>21.200000</td>\n",
       "    </tr>\n",
       "    <tr>\n",
       "      <th>75%</th>\n",
       "      <td>3.677083</td>\n",
       "      <td>12.500000</td>\n",
       "      <td>18.100000</td>\n",
       "      <td>0.000000</td>\n",
       "      <td>0.624000</td>\n",
       "      <td>6.623500</td>\n",
       "      <td>94.075000</td>\n",
       "      <td>5.188425</td>\n",
       "      <td>24.000000</td>\n",
       "      <td>666.000000</td>\n",
       "      <td>20.200000</td>\n",
       "      <td>396.225000</td>\n",
       "      <td>16.955000</td>\n",
       "      <td>25.000000</td>\n",
       "    </tr>\n",
       "    <tr>\n",
       "      <th>max</th>\n",
       "      <td>88.976200</td>\n",
       "      <td>100.000000</td>\n",
       "      <td>27.740000</td>\n",
       "      <td>1.000000</td>\n",
       "      <td>0.871000</td>\n",
       "      <td>8.780000</td>\n",
       "      <td>100.000000</td>\n",
       "      <td>12.126500</td>\n",
       "      <td>24.000000</td>\n",
       "      <td>711.000000</td>\n",
       "      <td>22.000000</td>\n",
       "      <td>396.900000</td>\n",
       "      <td>37.970000</td>\n",
       "      <td>50.000000</td>\n",
       "    </tr>\n",
       "  </tbody>\n",
       "</table>\n",
       "</div>"
      ],
      "text/plain": [
       "             CRIM          ZN       INDUS        CHAS         NOX          RM  \\\n",
       "count  506.000000  506.000000  506.000000  506.000000  506.000000  506.000000   \n",
       "mean     3.613524   11.363636   11.136779    0.069170    0.554695    6.284634   \n",
       "std      8.601545   23.322453    6.860353    0.253994    0.115878    0.702617   \n",
       "min      0.006320    0.000000    0.460000    0.000000    0.385000    3.561000   \n",
       "25%      0.082045    0.000000    5.190000    0.000000    0.449000    5.885500   \n",
       "50%      0.256510    0.000000    9.690000    0.000000    0.538000    6.208500   \n",
       "75%      3.677083   12.500000   18.100000    0.000000    0.624000    6.623500   \n",
       "max     88.976200  100.000000   27.740000    1.000000    0.871000    8.780000   \n",
       "\n",
       "              AGE         DIS         RAD         TAX     PTRATIO           B  \\\n",
       "count  506.000000  506.000000  506.000000  506.000000  506.000000  506.000000   \n",
       "mean    68.574901    3.795043    9.549407  408.237154   18.455534  356.674032   \n",
       "std     28.148861    2.105710    8.707259  168.537116    2.164946   91.294864   \n",
       "min      2.900000    1.129600    1.000000  187.000000   12.600000    0.320000   \n",
       "25%     45.025000    2.100175    4.000000  279.000000   17.400000  375.377500   \n",
       "50%     77.500000    3.207450    5.000000  330.000000   19.050000  391.440000   \n",
       "75%     94.075000    5.188425   24.000000  666.000000   20.200000  396.225000   \n",
       "max    100.000000   12.126500   24.000000  711.000000   22.000000  396.900000   \n",
       "\n",
       "            LSTAT       PRICE  \n",
       "count  506.000000  506.000000  \n",
       "mean    12.653063   22.532806  \n",
       "std      7.141062    9.197104  \n",
       "min      1.730000    5.000000  \n",
       "25%      6.950000   17.025000  \n",
       "50%     11.360000   21.200000  \n",
       "75%     16.955000   25.000000  \n",
       "max     37.970000   50.000000  "
      ]
     },
     "execution_count": 10,
     "metadata": {},
     "output_type": "execute_result"
    }
   ],
   "source": [
    "boston.describe()"
   ]
  },
  {
   "cell_type": "markdown",
   "metadata": {},
   "source": [
    "#### Before going to machine learning algorithms, we should understand the data a  bit more."
   ]
  },
  {
   "cell_type": "markdown",
   "metadata": {},
   "source": [
    "#### Task-4: Present a heatmap on above Boston dataset by using seaborn or any other libraries you prefer. (3 points)"
   ]
  },
  {
   "cell_type": "code",
   "execution_count": 11,
   "metadata": {},
   "outputs": [
    {
     "data": {
      "image/png": "[encoded data removed]",
      "text/plain": [
       "<Figure size 432x288 with 2 Axes>"
      ]
     },
     "metadata": {
      "needs_background": "light"
     },
     "output_type": "display_data"
    }
   ],
   "source": [
    "ax = sns.heatmap(boston)"
   ]
  },
  {
   "cell_type": "code",
   "execution_count": 12,
   "metadata": {},
   "outputs": [
    {
     "data": {
      "text/plain": [
       "<seaborn.axisgrid.FacetGrid at 0x29b87eb7a00>"
      ]
     },
     "execution_count": 12,
     "metadata": {},
     "output_type": "execute_result"
    },
    {
     "data": {
      "image/png": "[encoded data removed]",
      "text/plain": [
       "<Figure size 360x360 with 1 Axes>"
      ]
     },
     "metadata": {
      "needs_background": "light"
     },
     "output_type": "display_data"
    }
   ],
   "source": [
    "# Distributing of PRICE Column\n",
    "sns.displot(boston['PRICE'])"
   ]
  },
  {
   "cell_type": "markdown",
   "metadata": {},
   "source": [
    "#### Task-5: try yourself to distribute another two columns (e.g., number of rooms, nitric oxides concentration) (4 points)"
   ]
  },
  {
   "cell_type": "code",
   "execution_count": 13,
   "metadata": {},
   "outputs": [
    {
     "data": {
      "text/plain": [
       "<seaborn.axisgrid.FacetGrid at 0x29b88099c10>"
      ]
     },
     "execution_count": 13,
     "metadata": {},
     "output_type": "execute_result"
    },
    {
     "data": {
      "image/png": "[encoded data removed]",
      "text/plain": [
       "<Figure size 360x360 with 1 Axes>"
      ]
     },
     "metadata": {
      "needs_background": "light"
     },
     "output_type": "display_data"
    },
    {
     "data": {
      "image/png": "[encoded data removed]",
      "text/plain": [
       "<Figure size 360x360 with 1 Axes>"
      ]
     },
     "metadata": {
      "needs_background": "light"
     },
     "output_type": "display_data"
    }
   ],
   "source": [
    "sns.displot(boston['RM'])\n",
    "sns.displot(boston['NOX'])\n"
   ]
  },
  {
   "cell_type": "markdown",
   "metadata": {},
   "source": [
    "#### Now, let's try machine learning regression models. "
   ]
  },
  {
   "cell_type": "markdown",
   "metadata": {},
   "source": [
    "## Algorithm1: Linear Regression"
   ]
  },
  {
   "cell_type": "code",
   "execution_count": 14,
   "metadata": {},
   "outputs": [],
   "source": [
    "# Creating Predictor variable 'X' and Target Variable 'y'\n",
    "\n",
    "# X contains all the features except for the target value Price\n",
    "X = boston.drop('PRICE', axis = 1)\n",
    "y = boston['PRICE']"
   ]
  },
  {
   "cell_type": "code",
   "execution_count": 15,
   "metadata": {},
   "outputs": [],
   "source": [
    "from sklearn.model_selection import train_test_split\n",
    "from sklearn.linear_model import LinearRegression"
   ]
  },
  {
   "cell_type": "markdown",
   "metadata": {},
   "source": [
    "##### Task-6: complete the following line of code which splits the data into training and test set: X_train contains 70% of total dataset, X_test contains 30% (4 points)"
   ]
  },
  {
   "cell_type": "code",
   "execution_count": 16,
   "metadata": {},
   "outputs": [
    {
     "name": "stdout",
     "output_type": "stream",
     "text": [
      "(354, 13)\n",
      "(152, 13)\n"
     ]
    }
   ],
   "source": [
    "X_train, X_test, y_train, y_test = train_test_split(X, y,train_size=0.7, test_size=0.3, random_state=0)\n",
    "\n",
    "# X_train contains 70% of total dataset\n",
    "print(X_train.shape)\n",
    "# X_test contains 30% of total dataset\n",
    "print(X_test.shape)"
   ]
  },
  {
   "cell_type": "code",
   "execution_count": 17,
   "metadata": {},
   "outputs": [],
   "source": [
    "lr = LinearRegression()"
   ]
  },
  {
   "cell_type": "markdown",
   "metadata": {},
   "source": [
    "#### Task-7: fit the training dataset into linear regression model. (3 points)"
   ]
  },
  {
   "cell_type": "code",
   "execution_count": 18,
   "metadata": {},
   "outputs": [
    {
     "data": {
      "text/plain": [
       "LinearRegression()"
      ]
     },
     "execution_count": 18,
     "metadata": {},
     "output_type": "execute_result"
    }
   ],
   "source": [
    "lr.fit(X_train,y_train)"
   ]
  },
  {
   "cell_type": "markdown",
   "metadata": {},
   "source": [
    "#### Task-8:  print the intercept for above trained linaer regression models. (2 points)"
   ]
  },
  {
   "cell_type": "code",
   "execution_count": 19,
   "metadata": {},
   "outputs": [
    {
     "name": "stdout",
     "output_type": "stream",
     "text": [
      "37.937107741833316\n"
     ]
    }
   ],
   "source": [
    "print(lr.intercept_)"
   ]
  },
  {
   "cell_type": "code",
   "execution_count": 20,
   "metadata": {},
   "outputs": [
    {
     "data": {
      "text/html": [
       "<div>\n",
       "<style scoped>\n",
       "    .dataframe tbody tr th:only-of-type {\n",
       "        vertical-align: middle;\n",
       "    }\n",
       "\n",
       "    .dataframe tbody tr th {\n",
       "        vertical-align: top;\n",
       "    }\n",
       "\n",
       "    .dataframe thead th {\n",
       "        text-align: right;\n",
       "    }\n",
       "</style>\n",
       "<table border=\"1\" class=\"dataframe\">\n",
       "  <thead>\n",
       "    <tr style=\"text-align: right;\">\n",
       "      <th></th>\n",
       "      <th>Coefficient</th>\n",
       "    </tr>\n",
       "  </thead>\n",
       "  <tbody>\n",
       "    <tr>\n",
       "      <th>CRIM</th>\n",
       "      <td>-0.121310</td>\n",
       "    </tr>\n",
       "    <tr>\n",
       "      <th>ZN</th>\n",
       "      <td>0.044466</td>\n",
       "    </tr>\n",
       "    <tr>\n",
       "      <th>INDUS</th>\n",
       "      <td>0.011342</td>\n",
       "    </tr>\n",
       "    <tr>\n",
       "      <th>CHAS</th>\n",
       "      <td>2.511246</td>\n",
       "    </tr>\n",
       "    <tr>\n",
       "      <th>NOX</th>\n",
       "      <td>-16.231253</td>\n",
       "    </tr>\n",
       "    <tr>\n",
       "      <th>RM</th>\n",
       "      <td>3.859068</td>\n",
       "    </tr>\n",
       "    <tr>\n",
       "      <th>AGE</th>\n",
       "      <td>-0.009985</td>\n",
       "    </tr>\n",
       "    <tr>\n",
       "      <th>DIS</th>\n",
       "      <td>-1.500270</td>\n",
       "    </tr>\n",
       "    <tr>\n",
       "      <th>RAD</th>\n",
       "      <td>0.242143</td>\n",
       "    </tr>\n",
       "    <tr>\n",
       "      <th>TAX</th>\n",
       "      <td>-0.011072</td>\n",
       "    </tr>\n",
       "    <tr>\n",
       "      <th>PTRATIO</th>\n",
       "      <td>-1.017753</td>\n",
       "    </tr>\n",
       "    <tr>\n",
       "      <th>B</th>\n",
       "      <td>0.006814</td>\n",
       "    </tr>\n",
       "    <tr>\n",
       "      <th>LSTAT</th>\n",
       "      <td>-0.486738</td>\n",
       "    </tr>\n",
       "  </tbody>\n",
       "</table>\n",
       "</div>"
      ],
      "text/plain": [
       "         Coefficient\n",
       "CRIM       -0.121310\n",
       "ZN          0.044466\n",
       "INDUS       0.011342\n",
       "CHAS        2.511246\n",
       "NOX       -16.231253\n",
       "RM          3.859068\n",
       "AGE        -0.009985\n",
       "DIS        -1.500270\n",
       "RAD         0.242143\n",
       "TAX        -0.011072\n",
       "PTRATIO    -1.017753\n",
       "B           0.006814\n",
       "LSTAT      -0.486738"
      ]
     },
     "execution_count": 20,
     "metadata": {},
     "output_type": "execute_result"
    }
   ],
   "source": [
    "#Coefficients\n",
    "coeff_df = pd.DataFrame(lr.coef_,X.columns,columns=['Coefficient'])\n",
    "coeff_df"
   ]
  },
  {
   "cell_type": "markdown",
   "metadata": {},
   "source": [
    "#### Task-9: complete the following line of codes which use the trained model above to predict the house prices on test dataset, and output the prediction result as \"pred\". (3 points)"
   ]
  },
  {
   "cell_type": "code",
   "execution_count": 21,
   "metadata": {},
   "outputs": [],
   "source": [
    "pred = lr.predict(X_test)"
   ]
  },
  {
   "cell_type": "code",
   "execution_count": 22,
   "metadata": {},
   "outputs": [
    {
     "data": {
      "text/plain": [
       "Text(0, 0.5, 'Predicted prices')"
      ]
     },
     "execution_count": 22,
     "metadata": {},
     "output_type": "execute_result"
    },
    {
     "data": {
      "image/png": "[encoded data removed]",
      "text/plain": [
       "<Figure size 432x288 with 1 Axes>"
      ]
     },
     "metadata": {
      "needs_background": "light"
     },
     "output_type": "display_data"
    }
   ],
   "source": [
    "plt.scatter(y_test,pred)\n",
    "plt.xlabel(\"Prices\")\n",
    "plt.ylabel(\"Predicted prices\")"
   ]
  },
  {
   "cell_type": "code",
   "execution_count": 23,
   "metadata": {},
   "outputs": [
    {
     "name": "stdout",
     "output_type": "stream",
     "text": [
      "MAE: 3.6099040603818233\n",
      "MSE: 27.19596576688338\n",
      "RMSE: 5.21497514537542\n"
     ]
    }
   ],
   "source": [
    "# evaluating and outputing the results using different evaluation metrics (i.e., MAE, MSE, RMSE).\n",
    "from sklearn import metrics\n",
    "print('MAE:', metrics.mean_absolute_error(y_test, pred))\n",
    "print('MSE:', metrics.mean_squared_error(y_test, pred))\n",
    "print('RMSE:', np.sqrt(metrics.mean_squared_error(y_test, pred)))"
   ]
  },
  {
   "cell_type": "markdown",
   "metadata": {},
   "source": [
    "#### Task-10: Try Ridge or Lasso regressions  (set alpha=1.0) and complete the following four following steps. (10 points)"
   ]
  },
  {
   "cell_type": "code",
   "execution_count": 24,
   "metadata": {},
   "outputs": [
    {
     "name": "stdout",
     "output_type": "stream",
     "text": [
      "[2.49766729e+01 2.32843316e+01 2.89093877e+01 1.20415177e+01\n",
      " 2.07252633e+01 1.97166295e+01 2.02678199e+01 2.16169077e+01\n",
      " 1.92065079e+01 2.00914515e+01 5.36445144e+00 1.60305836e+01\n",
      " 1.75915532e+01 5.36864018e+00 3.97620466e+01 3.22308853e+01\n",
      " 2.17135018e+01 3.61699665e+01 3.11663566e+01 2.33510761e+01\n",
      " 2.48749527e+01 2.39890591e+01 2.04451199e+01 3.03036168e+01\n",
      " 2.21933303e+01 9.54495939e+00 1.76238219e+01 1.97090782e+01\n",
      " 3.52507706e+01 2.04003752e+01 1.77444317e+01 1.81536076e+01\n",
      " 1.90509214e+01 2.31020741e+01 2.86223100e+01 2.01272499e+01\n",
      " 1.11285171e+01 2.46523543e+01 1.72269198e+01 1.47365079e+01\n",
      " 2.57390213e+01 2.06590782e+01 2.21401951e+01 1.47049513e+01\n",
      " 2.29352767e+01 2.45908438e+01 1.89804171e+01 2.45205886e+01\n",
      " 1.12045887e+01 2.43192446e+01 2.29602076e+01 1.81908251e+01\n",
      " 2.41007868e+01 3.04495575e+01 1.36034624e+01 2.16364459e+01\n",
      " 2.05122613e+01 1.50750105e+01 1.35483075e+01 2.15246005e+01\n",
      " 1.75466654e+01 2.17457454e+01 3.27494951e+01 3.15007761e+01\n",
      " 1.73937728e+01 3.23960752e+01 1.90112575e+01 1.89534012e+01\n",
      " 1.85919292e+01 2.31448794e+01 2.19648112e+01 2.34584738e+01\n",
      " 3.03536226e+01 2.91796725e+01 2.51079575e+01 5.22116912e+00\n",
      " 3.67267319e+01 2.36518611e+01 2.71361752e+01 1.95386465e+01\n",
      " 2.81160724e+01 1.93856891e+01 1.86673641e+01 3.76949387e+01\n",
      " 3.91103982e+01 2.41291027e+01 2.43780881e+01 1.58768901e+01\n",
      " 2.75845065e+01 1.69841844e+01 1.55057759e+01 1.38755038e+01\n",
      " 2.41401939e+01 3.03827650e+01 2.25725338e+01 1.99588365e+01\n",
      " 1.24074636e-03 2.51646931e+01 1.62726605e+01 1.73813009e+01\n",
      " 2.55071424e+01 2.21049121e+01 3.21580713e+01 2.17082772e+01\n",
      " 2.68999080e+01 2.31264567e+01 6.69425933e+00 1.51034329e+01\n",
      " 2.27080806e+01 2.89078499e+01 3.27608412e+01 1.23763696e+01\n",
      " 1.93594180e+01 2.04778950e+01 1.15887456e+01 2.32224095e+01\n",
      " 5.80940648e+00 2.00333987e+01 9.29664423e+00 4.45777625e+01\n",
      " 3.03979736e+01 1.24378404e+01 1.70316721e+01 2.17727306e+01\n",
      " 2.35108915e+01 2.01117541e+01 3.48986465e+01 1.29219148e+01\n",
      " 2.08166513e+01 3.51197729e+01 1.95087796e+01 1.36220075e+01\n",
      " 1.36373313e+01 2.25051970e+01 1.53419224e+01 3.13281959e+01\n",
      " 2.50240855e+01 1.67628161e+01 2.42960464e+01 9.65255082e+00\n",
      " 1.48803071e+01 2.15194039e+01 3.28742132e+01 2.79023817e+01\n",
      " 2.56113714e+01 1.54992493e+01 3.11572263e+01 2.80154536e+01\n",
      " 1.44578375e+01 7.54311488e+00 2.83610721e+01 2.51840564e+01]\n"
     ]
    }
   ],
   "source": [
    "from sklearn.linear_model import Ridge\n",
    "from sklearn.linear_model import Lasso\n",
    "\n",
    "#step-1: Create a ridge or lasso regression model\n",
    "rid = Ridge(alpha=1.0)\n",
    "\n",
    "\n",
    "#step-2: Fit to our training data (i.e., X_train and y_train)\n",
    "rid.fit(X_train,y_train)\n",
    "\n",
    "#step-3: Apply the model to predict on our testing data (i.e., X_test)\n",
    "predict = rid.predict(X_test)  \n",
    "#step-4: Print prediction performance RMSE\n",
    "\n",
    "print(predict)"
   ]
  },
  {
   "cell_type": "markdown",
   "metadata": {},
   "source": [
    "#### Question: Is Ridge regression and Lasso regression linear regression?  What is differnece between Ridge and Lasso regressions? (5 points)"
   ]
  },
  {
   "cell_type": "markdown",
   "metadata": {},
   "source": [
    "Answer: Yes, ridge and lasso regression are both linear regression. Lasso makes cofficients to absolute zero but Ridge has no intension to make cofficients value to zero."
   ]
  },
  {
   "cell_type": "markdown",
   "metadata": {},
   "source": [
    "#### Task-11: Above, we've used the existing libriaries to implment linear regression, now let's try to implement a simple 2-dimension linear regression in order to understand it better. (40 points)  \n",
    "\n",
    "#### Some concepts in 2-D linear regression:\n",
    "##### x: input data points\n",
    "##### y: predicted value \n",
    "##### a: intercept \n",
    "##### b: bias/slope of the regression line "
   ]
  },
  {
   "cell_type": "code",
   "execution_count": 93,
   "metadata": {
    "scrolled": true
   },
   "outputs": [
    {
     "name": "stdout",
     "output_type": "stream",
     "text": [
      "      CRIM    ZN  INDUS  CHAS    NOX     RM    AGE     DIS  RAD    TAX  \\\n",
      "0  0.00632  18.0   2.31   0.0  0.538  6.575   65.2  4.0900  1.0  296.0   \n",
      "1  0.02731   0.0   7.07   0.0  0.469  6.421   78.9  4.9671  2.0  242.0   \n",
      "2  0.02729   0.0   7.07   0.0  0.469  7.185   61.1  4.9671  2.0  242.0   \n",
      "3  0.03237   0.0   2.18   0.0  0.458  6.998   45.8  6.0622  3.0  222.0   \n",
      "4  0.06905   0.0   2.18   0.0  0.458  7.147   54.2  6.0622  3.0  222.0   \n",
      "5  0.02985   0.0   2.18   0.0  0.458  6.430   58.7  6.0622  3.0  222.0   \n",
      "6  0.08829  12.5   7.87   0.0  0.524  6.012   66.6  5.5605  5.0  311.0   \n",
      "7  0.14455  12.5   7.87   0.0  0.524  6.172   96.1  5.9505  5.0  311.0   \n",
      "8  0.21124  12.5   7.87   0.0  0.524  5.631  100.0  6.0821  5.0  311.0   \n",
      "9  0.17004  12.5   7.87   0.0  0.524  6.004   85.9  6.5921  5.0  311.0   \n",
      "\n",
      "   PTRATIO       B  LSTAT  PRICE  \n",
      "0     15.3  396.90   4.98   24.0  \n",
      "1     17.8  396.90   9.14   21.6  \n",
      "2     17.8  392.83   4.03   34.7  \n",
      "3     18.7  394.63   2.94   33.4  \n",
      "4     18.7  396.90   5.33   36.2  \n",
      "5     18.7  394.12   5.21   28.7  \n",
      "6     15.2  395.60  12.43   22.9  \n",
      "7     15.2  396.90  19.15   27.1  \n",
      "8     15.2  386.63  29.93   16.5  \n",
      "9     15.2  386.71  17.10   18.9  \n",
      "68740.05167307984 10805.852625497999\n"
     ]
    },
    {
     "data": {
      "image/png": "[encoded data removed]",
      "text/plain": [
       "<Figure size 432x288 with 1 Axes>"
      ]
     },
     "metadata": {
      "needs_background": "light"
     },
     "output_type": "display_data"
    },
    {
     "name": "stdout",
     "output_type": "stream",
     "text": [
      "0      462771.692376\n",
      "1      452185.724418\n",
      "2      504703.123897\n",
      "3      491848.734234\n",
      "4      502091.001933\n",
      "           ...      \n",
      "501    464009.013306\n",
      "502    431494.968865\n",
      "503    490336.453097\n",
      "504    477825.763692\n",
      "505    425308.364214\n",
      "Name: RM, Length: 506, dtype: float64\n"
     ]
    }
   ],
   "source": [
    "# Input: Boston data (in format of pandas data frame)\n",
    "# Task: Train (using SGD), visualize, test and evaluate a 2-dimension linear regression model (e.g., y = a + bx)\n",
    "# Requirment: without using inbuilt machine learning libraries. Okay let's get started:\n",
    "from sklearn.metrics import r2_score\n",
    "import matplotlib.pyplot as plt\n",
    "\n",
    "# Step 1: downlaod the data and prepare the input\n",
    "housing_data = load_boston()\n",
    "data = pd.DataFrame(housing_data.data)\n",
    "data.columns = housing_data.feature_names\n",
    "data['PRICE'] = housing_data.target\n",
    "\n",
    "# Step 2: define your dependent variable y (i.e., PRICE) and independent variable x (e.g., RM or any other attribute)\n",
    "X = data['RM']\n",
    "Y = data['PRICE']\n",
    "\n",
    "# Initialization of intercept a and slop b\n",
    "a = 0\n",
    "b = 0\n",
    " \n",
    "# print the first ten rows for the data (refer to Task-2) \n",
    "print(data.head(10))\n",
    "\n",
    "# Step 3: predefine the values for parameters in SGD-stochastic gradient descent (e.g., learning rate, iteration)\n",
    "# define the learning rate for SGD \n",
    "L = 0.1\n",
    "# define the number of iterations to perform SGD\n",
    "epochs = 5\n",
    "# the number of elements in X\n",
    "n = float(len(X))  \n",
    "\n",
    "# Step 4: performe SGD and return the optmized value for a and b\n",
    "for i in range(epochs): \n",
    "    Y_pred = a*X + b   \n",
    "    D_a = (-2/n) * sum(X * (Y - Y_pred))   \n",
    "    D_b = (-2/n) * sum(Y - Y_pred)   \n",
    "    a = a - L * D_a  \n",
    "    b = b - L * D_b   \n",
    "    \n",
    "print (a, b)\n",
    " \n",
    "# Step 5: calculate R-squared value to evaluate our current model. \n",
    "# for R-squared, refer to https://www.ncl.ac.uk/webtemplate/ask-assets/external/maths-resources/statistics/regression-and-correlation/coefficient-of-determination-r-squared.html#:~:text=%C2%AFy)2.-,R%202%20%3D%201%20%E2%88%92%20sum%20squared%20regression%20(SSR)%20total,from%20the%20mean%20all%20squared.\n",
    "\n",
    "r2 = r2_score(X,Y) \n",
    " \n",
    "#Step 6: plot our regression model (the line in this example) by using plt (matplotlib.pyplot)\n",
    "\n",
    "plt.plot(X, a*X+b)\n",
    "plt.show()\n",
    "\n",
    "# Step 7: predict result (i.e., PRICE vallue) for a given unseen point (give a value to x_unseen)  \n",
    " \n",
    "predicate = a*X + b\n",
    "print(predicate)\n",
    " "
   ]
  },
  {
   "cell_type": "markdown",
   "metadata": {},
   "source": [
    "## Algorithm2: Neural Networks - Regression"
   ]
  },
  {
   "cell_type": "code",
   "execution_count": 26,
   "metadata": {},
   "outputs": [],
   "source": [
    "X = boston.drop('PRICE', axis = 1)\n",
    "Y = boston['PRICE']"
   ]
  },
  {
   "cell_type": "code",
   "execution_count": 27,
   "metadata": {},
   "outputs": [],
   "source": [
    "from sklearn import preprocessing"
   ]
  },
  {
   "cell_type": "markdown",
   "metadata": {},
   "source": [
    "#### Task-12: complete the following codes which apply the preprocessing method MinMaxScaler to scale the given training data X  and assign the scaled training data to variable X_scale. (10 points)"
   ]
  },
  {
   "cell_type": "code",
   "execution_count": 28,
   "metadata": {},
   "outputs": [],
   "source": [
    "min_max_scaler = preprocessing.MinMaxScaler()\n",
    "X_scale = min_max_scaler.fit_transform(X_train)"
   ]
  },
  {
   "cell_type": "markdown",
   "metadata": {},
   "source": [
    "#### Task-13: complete the following codes which first split the training data into training and validation_test sets (e.g., 70/30), then split the validation_test set into validation and test (e.g.,50/50). (5 points)"
   ]
  },
  {
   "cell_type": "code",
   "execution_count": 29,
   "metadata": {
    "scrolled": true
   },
   "outputs": [
    {
     "name": "stdout",
     "output_type": "stream",
     "text": [
      "(354, 13) (253, 13) (253, 13) (354,) (253,) (253,)\n"
     ]
    }
   ],
   "source": [
    "from sklearn.model_selection import train_test_split\n",
    "X_train, X_val_and_test, Y_train, Y_val_and_test =  train_test_split(X, y,train_size=0.7, random_state=0)\n",
    "X_val, X_test, Y_val, Y_test =  train_test_split(X, y,test_size=0.5, random_state=0)\n",
    "print(X_train.shape, X_val.shape, X_test.shape, Y_train.shape, Y_val.shape, Y_test.shape)"
   ]
  },
  {
   "cell_type": "code",
   "execution_count": 30,
   "metadata": {},
   "outputs": [],
   "source": [
    "# import libraries of tensorflow to build neurral networks.\n",
    "import tensorflow as tf\n",
    "from tensorflow.keras.models import Sequential\n",
    "from tensorflow.keras.layers import Dense"
   ]
  },
  {
   "cell_type": "markdown",
   "metadata": {},
   "source": [
    "#### Task-14: complete the following codes which build a two layers neural network model by using Sequential. (10 points)\n",
    "#### FYI: https://www.tensorflow.org/api_docs/python/tf/keras/Sequential"
   ]
  },
  {
   "cell_type": "code",
   "execution_count": 31,
   "metadata": {},
   "outputs": [],
   "source": [
    "# Build model\n",
    "model = Sequential([\n",
    "    Dense(12, activation='relu'),\n",
    "    Dense(12, activation='softmax'),\n",
    "])"
   ]
  },
  {
   "cell_type": "markdown",
   "metadata": {},
   "source": [
    "#### Task-15: compile the model (use mean_squared_error as loss function, and apply metrics=['mse', 'mae', 'mape'])  (5 points)"
   ]
  },
  {
   "cell_type": "code",
   "execution_count": 32,
   "metadata": {},
   "outputs": [],
   "source": [
    "# Compile model\n",
    "model.compile(loss='mean_squared_error', metrics=['mse', 'mae', 'mape'])\n"
   ]
  },
  {
   "cell_type": "markdown",
   "metadata": {},
   "source": [
    "#### Task-16: compelte the following codes which train/fit the model using the function of fit  (both training data and valiation data will be used)  (5 points)"
   ]
  },
  {
   "cell_type": "code",
   "execution_count": 33,
   "metadata": {},
   "outputs": [
    {
     "name": "stdout",
     "output_type": "stream",
     "text": [
      "Epoch 1/100\n",
      "WARNING:tensorflow:Layer dense is casting an input tensor from dtype float64 to the layer's dtype of float32, which is new behavior in TensorFlow 2.  The layer has dtype float32 because its dtype defaults to floatx.\n",
      "\n",
      "If you intended to run this layer in float32, you can safely ignore this warning. If in doubt, this warning is likely only an issue if you are porting a TensorFlow 1.X model to TensorFlow 2.\n",
      "\n",
      "To change all layers to have dtype float64 by default, call `tf.keras.backend.set_floatx('float64')`. To change just this layer, pass dtype='float64' to the layer constructor. If you are the author of this layer, you can disable autocasting by passing autocast=False to the base Layer constructor.\n",
      "\n",
      "12/12 [==============================] - 0s 41ms/step - loss: 598.4138 - mse: 598.4138 - mae: 22.6621 - mape: 99.5679 - val_loss: 619.9897 - val_mse: 619.9897 - val_mae: 22.9657 - val_mape: 99.5671\n",
      "Epoch 2/100\n",
      "12/12 [==============================] - 0s 6ms/step - loss: 598.4138 - mse: 598.4138 - mae: 22.6621 - mape: 99.5679 - val_loss: 619.9897 - val_mse: 619.9897 - val_mae: 22.9657 - val_mape: 99.5671\n",
      "Epoch 3/100\n",
      "12/12 [==============================] - 0s 3ms/step - loss: 598.4138 - mse: 598.4138 - mae: 22.6621 - mape: 99.5679 - val_loss: 619.9897 - val_mse: 619.9897 - val_mae: 22.9657 - val_mape: 99.5671\n",
      "Epoch 4/100\n",
      "12/12 [==============================] - 0s 3ms/step - loss: 598.4138 - mse: 598.4138 - mae: 22.6621 - mape: 99.5679 - val_loss: 619.9897 - val_mse: 619.9897 - val_mae: 22.9657 - val_mape: 99.5671\n",
      "Epoch 5/100\n",
      "12/12 [==============================] - 0s 3ms/step - loss: 598.4138 - mse: 598.4138 - mae: 22.6621 - mape: 99.5679 - val_loss: 619.9897 - val_mse: 619.9897 - val_mae: 22.9657 - val_mape: 99.5671\n",
      "Epoch 6/100\n",
      "12/12 [==============================] - 0s 4ms/step - loss: 598.4138 - mse: 598.4138 - mae: 22.6621 - mape: 99.5679 - val_loss: 619.9897 - val_mse: 619.9897 - val_mae: 22.9657 - val_mape: 99.5671\n",
      "Epoch 7/100\n",
      "12/12 [==============================] - 0s 3ms/step - loss: 598.4138 - mse: 598.4138 - mae: 22.6621 - mape: 99.5679 - val_loss: 619.9897 - val_mse: 619.9897 - val_mae: 22.9657 - val_mape: 99.5671\n",
      "Epoch 8/100\n",
      "12/12 [==============================] - 0s 4ms/step - loss: 598.4138 - mse: 598.4138 - mae: 22.6621 - mape: 99.5679 - val_loss: 619.9897 - val_mse: 619.9897 - val_mae: 22.9657 - val_mape: 99.5671\n",
      "Epoch 9/100\n",
      "12/12 [==============================] - 0s 4ms/step - loss: 598.4138 - mse: 598.4138 - mae: 22.6621 - mape: 99.5679 - val_loss: 619.9897 - val_mse: 619.9897 - val_mae: 22.9657 - val_mape: 99.5671\n",
      "Epoch 10/100\n",
      "12/12 [==============================] - 0s 4ms/step - loss: 598.4138 - mse: 598.4138 - mae: 22.6621 - mape: 99.5679 - val_loss: 619.9897 - val_mse: 619.9897 - val_mae: 22.9657 - val_mape: 99.5671\n",
      "Epoch 11/100\n",
      "12/12 [==============================] - 0s 3ms/step - loss: 598.4138 - mse: 598.4138 - mae: 22.6621 - mape: 99.5679 - val_loss: 619.9897 - val_mse: 619.9897 - val_mae: 22.9657 - val_mape: 99.5671\n",
      "Epoch 12/100\n",
      "12/12 [==============================] - 0s 4ms/step - loss: 598.4138 - mse: 598.4138 - mae: 22.6621 - mape: 99.5679 - val_loss: 619.9897 - val_mse: 619.9897 - val_mae: 22.9657 - val_mape: 99.5671\n",
      "Epoch 13/100\n",
      "12/12 [==============================] - 0s 3ms/step - loss: 598.4138 - mse: 598.4138 - mae: 22.6621 - mape: 99.5679 - val_loss: 619.9897 - val_mse: 619.9897 - val_mae: 22.9657 - val_mape: 99.5671\n",
      "Epoch 14/100\n",
      "12/12 [==============================] - 0s 3ms/step - loss: 598.4138 - mse: 598.4138 - mae: 22.6621 - mape: 99.5679 - val_loss: 619.9897 - val_mse: 619.9897 - val_mae: 22.9657 - val_mape: 99.5671\n",
      "Epoch 15/100\n",
      "12/12 [==============================] - 0s 3ms/step - loss: 598.4138 - mse: 598.4138 - mae: 22.6621 - mape: 99.5679 - val_loss: 619.9897 - val_mse: 619.9897 - val_mae: 22.9657 - val_mape: 99.5671\n",
      "Epoch 16/100\n",
      "12/12 [==============================] - 0s 3ms/step - loss: 598.4138 - mse: 598.4138 - mae: 22.6621 - mape: 99.5679 - val_loss: 619.9897 - val_mse: 619.9897 - val_mae: 22.9657 - val_mape: 99.5671\n",
      "Epoch 17/100\n",
      "12/12 [==============================] - 0s 3ms/step - loss: 598.4138 - mse: 598.4138 - mae: 22.6621 - mape: 99.5679 - val_loss: 619.9897 - val_mse: 619.9897 - val_mae: 22.9657 - val_mape: 99.5671\n",
      "Epoch 18/100\n",
      "12/12 [==============================] - 0s 4ms/step - loss: 598.4138 - mse: 598.4138 - mae: 22.6621 - mape: 99.5679 - val_loss: 619.9897 - val_mse: 619.9897 - val_mae: 22.9657 - val_mape: 99.5671\n",
      "Epoch 19/100\n",
      "12/12 [==============================] - 0s 4ms/step - loss: 598.4138 - mse: 598.4138 - mae: 22.6621 - mape: 99.5679 - val_loss: 619.9897 - val_mse: 619.9897 - val_mae: 22.9657 - val_mape: 99.5671\n",
      "Epoch 20/100\n",
      "12/12 [==============================] - 0s 4ms/step - loss: 598.4138 - mse: 598.4138 - mae: 22.6621 - mape: 99.5679 - val_loss: 619.9897 - val_mse: 619.9897 - val_mae: 22.9657 - val_mape: 99.5671\n",
      "Epoch 21/100\n",
      "12/12 [==============================] - 0s 3ms/step - loss: 598.4138 - mse: 598.4138 - mae: 22.6621 - mape: 99.5679 - val_loss: 619.9897 - val_mse: 619.9897 - val_mae: 22.9657 - val_mape: 99.5671\n",
      "Epoch 22/100\n",
      "12/12 [==============================] - 0s 3ms/step - loss: 598.4138 - mse: 598.4138 - mae: 22.6621 - mape: 99.5679 - val_loss: 619.9897 - val_mse: 619.9897 - val_mae: 22.9657 - val_mape: 99.5671\n",
      "Epoch 23/100\n",
      "12/12 [==============================] - 0s 3ms/step - loss: 598.4138 - mse: 598.4138 - mae: 22.6621 - mape: 99.5679 - val_loss: 619.9897 - val_mse: 619.9897 - val_mae: 22.9657 - val_mape: 99.5671\n",
      "Epoch 24/100\n",
      "12/12 [==============================] - 0s 3ms/step - loss: 598.4137 - mse: 598.4137 - mae: 22.6621 - mape: 99.5679 - val_loss: 619.9897 - val_mse: 619.9897 - val_mae: 22.9657 - val_mape: 99.5671\n",
      "Epoch 25/100\n",
      "12/12 [==============================] - 0s 4ms/step - loss: 598.4138 - mse: 598.4138 - mae: 22.6621 - mape: 99.5679 - val_loss: 619.9897 - val_mse: 619.9897 - val_mae: 22.9657 - val_mape: 99.5671\n",
      "Epoch 26/100\n",
      "12/12 [==============================] - 0s 3ms/step - loss: 598.4138 - mse: 598.4138 - mae: 22.6621 - mape: 99.5679 - val_loss: 619.9897 - val_mse: 619.9897 - val_mae: 22.9657 - val_mape: 99.5671\n",
      "Epoch 27/100\n",
      "12/12 [==============================] - 0s 4ms/step - loss: 598.4138 - mse: 598.4138 - mae: 22.6621 - mape: 99.5679 - val_loss: 619.9897 - val_mse: 619.9897 - val_mae: 22.9657 - val_mape: 99.5671\n",
      "Epoch 28/100\n",
      "12/12 [==============================] - 0s 3ms/step - loss: 598.4138 - mse: 598.4138 - mae: 22.6621 - mape: 99.5679 - val_loss: 619.9897 - val_mse: 619.9897 - val_mae: 22.9657 - val_mape: 99.5671\n",
      "Epoch 29/100\n",
      "12/12 [==============================] - 0s 3ms/step - loss: 598.4138 - mse: 598.4138 - mae: 22.6621 - mape: 99.5679 - val_loss: 619.9897 - val_mse: 619.9897 - val_mae: 22.9657 - val_mape: 99.5671\n",
      "Epoch 30/100\n",
      "12/12 [==============================] - 0s 3ms/step - loss: 598.4138 - mse: 598.4138 - mae: 22.6621 - mape: 99.5679 - val_loss: 619.9897 - val_mse: 619.9897 - val_mae: 22.9657 - val_mape: 99.5671\n",
      "Epoch 31/100\n",
      "12/12 [==============================] - 0s 3ms/step - loss: 598.4138 - mse: 598.4138 - mae: 22.6621 - mape: 99.5679 - val_loss: 619.9897 - val_mse: 619.9897 - val_mae: 22.9657 - val_mape: 99.5671\n",
      "Epoch 32/100\n",
      "12/12 [==============================] - 0s 3ms/step - loss: 598.4138 - mse: 598.4138 - mae: 22.6621 - mape: 99.5679 - val_loss: 619.9897 - val_mse: 619.9897 - val_mae: 22.9657 - val_mape: 99.5671\n",
      "Epoch 33/100\n",
      "12/12 [==============================] - 0s 3ms/step - loss: 598.4138 - mse: 598.4138 - mae: 22.6621 - mape: 99.5679 - val_loss: 619.9897 - val_mse: 619.9897 - val_mae: 22.9657 - val_mape: 99.5671\n",
      "Epoch 34/100\n",
      "12/12 [==============================] - 0s 3ms/step - loss: 598.4138 - mse: 598.4138 - mae: 22.6621 - mape: 99.5679 - val_loss: 619.9897 - val_mse: 619.9897 - val_mae: 22.9657 - val_mape: 99.5671\n",
      "Epoch 35/100\n",
      "12/12 [==============================] - ETA: 0s - loss: 565.4477 - mse: 565.4477 - mae: 22.2198 - mape: 99.54 - 0s 3ms/step - loss: 598.4138 - mse: 598.4138 - mae: 22.6621 - mape: 99.5679 - val_loss: 619.9897 - val_mse: 619.9897 - val_mae: 22.9657 - val_mape: 99.5671\n",
      "Epoch 36/100\n"
     ]
    },
    {
     "name": "stdout",
     "output_type": "stream",
     "text": [
      "12/12 [==============================] - 0s 3ms/step - loss: 598.4137 - mse: 598.4137 - mae: 22.6621 - mape: 99.5679 - val_loss: 619.9897 - val_mse: 619.9897 - val_mae: 22.9657 - val_mape: 99.5671\n",
      "Epoch 37/100\n",
      "12/12 [==============================] - 0s 3ms/step - loss: 598.4138 - mse: 598.4138 - mae: 22.6621 - mape: 99.5679 - val_loss: 619.9897 - val_mse: 619.9897 - val_mae: 22.9657 - val_mape: 99.5671\n",
      "Epoch 38/100\n",
      "12/12 [==============================] - 0s 4ms/step - loss: 598.4138 - mse: 598.4138 - mae: 22.6621 - mape: 99.5679 - val_loss: 619.9897 - val_mse: 619.9897 - val_mae: 22.9657 - val_mape: 99.5671\n",
      "Epoch 39/100\n",
      "12/12 [==============================] - 0s 3ms/step - loss: 598.4138 - mse: 598.4138 - mae: 22.6621 - mape: 99.5679 - val_loss: 619.9897 - val_mse: 619.9897 - val_mae: 22.9657 - val_mape: 99.5671\n",
      "Epoch 40/100\n",
      "12/12 [==============================] - 0s 3ms/step - loss: 598.4138 - mse: 598.4138 - mae: 22.6621 - mape: 99.5679 - val_loss: 619.9897 - val_mse: 619.9897 - val_mae: 22.9657 - val_mape: 99.5671\n",
      "Epoch 41/100\n",
      "12/12 [==============================] - 0s 3ms/step - loss: 598.4138 - mse: 598.4138 - mae: 22.6621 - mape: 99.5679 - val_loss: 619.9897 - val_mse: 619.9897 - val_mae: 22.9657 - val_mape: 99.5671\n",
      "Epoch 42/100\n",
      "12/12 [==============================] - 0s 3ms/step - loss: 598.4138 - mse: 598.4138 - mae: 22.6621 - mape: 99.5679 - val_loss: 619.9897 - val_mse: 619.9897 - val_mae: 22.9657 - val_mape: 99.5671\n",
      "Epoch 43/100\n",
      "12/12 [==============================] - 0s 3ms/step - loss: 598.4138 - mse: 598.4138 - mae: 22.6621 - mape: 99.5679 - val_loss: 619.9897 - val_mse: 619.9897 - val_mae: 22.9657 - val_mape: 99.5671\n",
      "Epoch 44/100\n",
      "12/12 [==============================] - 0s 3ms/step - loss: 598.4138 - mse: 598.4138 - mae: 22.6621 - mape: 99.5679 - val_loss: 619.9897 - val_mse: 619.9897 - val_mae: 22.9657 - val_mape: 99.5671\n",
      "Epoch 45/100\n",
      "12/12 [==============================] - 0s 3ms/step - loss: 598.4138 - mse: 598.4138 - mae: 22.6621 - mape: 99.5679 - val_loss: 619.9897 - val_mse: 619.9897 - val_mae: 22.9657 - val_mape: 99.5671\n",
      "Epoch 46/100\n",
      "12/12 [==============================] - 0s 3ms/step - loss: 598.4138 - mse: 598.4138 - mae: 22.6621 - mape: 99.5679 - val_loss: 619.9897 - val_mse: 619.9897 - val_mae: 22.9657 - val_mape: 99.5671\n",
      "Epoch 47/100\n",
      "12/12 [==============================] - 0s 3ms/step - loss: 598.4138 - mse: 598.4138 - mae: 22.6621 - mape: 99.5679 - val_loss: 619.9897 - val_mse: 619.9897 - val_mae: 22.9657 - val_mape: 99.5671\n",
      "Epoch 48/100\n",
      "12/12 [==============================] - 0s 3ms/step - loss: 598.4138 - mse: 598.4138 - mae: 22.6621 - mape: 99.5679 - val_loss: 619.9897 - val_mse: 619.9897 - val_mae: 22.9657 - val_mape: 99.5671\n",
      "Epoch 49/100\n",
      "12/12 [==============================] - 0s 3ms/step - loss: 598.4138 - mse: 598.4138 - mae: 22.6621 - mape: 99.5679 - val_loss: 619.9897 - val_mse: 619.9897 - val_mae: 22.9657 - val_mape: 99.5671\n",
      "Epoch 50/100\n",
      "12/12 [==============================] - 0s 3ms/step - loss: 598.4138 - mse: 598.4138 - mae: 22.6621 - mape: 99.5679 - val_loss: 619.9897 - val_mse: 619.9897 - val_mae: 22.9657 - val_mape: 99.5671\n",
      "Epoch 51/100\n",
      "12/12 [==============================] - 0s 3ms/step - loss: 598.4138 - mse: 598.4138 - mae: 22.6621 - mape: 99.5679 - val_loss: 619.9897 - val_mse: 619.9897 - val_mae: 22.9657 - val_mape: 99.5671\n",
      "Epoch 52/100\n",
      "12/12 [==============================] - 0s 3ms/step - loss: 598.4138 - mse: 598.4138 - mae: 22.6621 - mape: 99.5679 - val_loss: 619.9897 - val_mse: 619.9897 - val_mae: 22.9657 - val_mape: 99.5671\n",
      "Epoch 53/100\n",
      "12/12 [==============================] - 0s 3ms/step - loss: 598.4138 - mse: 598.4138 - mae: 22.6621 - mape: 99.5679 - val_loss: 619.9897 - val_mse: 619.9897 - val_mae: 22.9657 - val_mape: 99.5671\n",
      "Epoch 54/100\n",
      "12/12 [==============================] - 0s 3ms/step - loss: 598.4138 - mse: 598.4138 - mae: 22.6621 - mape: 99.5679 - val_loss: 619.9897 - val_mse: 619.9897 - val_mae: 22.9657 - val_mape: 99.5671\n",
      "Epoch 55/100\n",
      "12/12 [==============================] - 0s 3ms/step - loss: 598.4138 - mse: 598.4138 - mae: 22.6621 - mape: 99.5679 - val_loss: 619.9897 - val_mse: 619.9897 - val_mae: 22.9657 - val_mape: 99.5671\n",
      "Epoch 56/100\n",
      "12/12 [==============================] - 0s 3ms/step - loss: 598.4138 - mse: 598.4138 - mae: 22.6621 - mape: 99.5679 - val_loss: 619.9897 - val_mse: 619.9897 - val_mae: 22.9657 - val_mape: 99.5671\n",
      "Epoch 57/100\n",
      "12/12 [==============================] - 0s 4ms/step - loss: 598.4138 - mse: 598.4138 - mae: 22.6621 - mape: 99.5679 - val_loss: 619.9897 - val_mse: 619.9897 - val_mae: 22.9657 - val_mape: 99.5671\n",
      "Epoch 58/100\n",
      "12/12 [==============================] - 0s 4ms/step - loss: 598.4138 - mse: 598.4138 - mae: 22.6621 - mape: 99.5679 - val_loss: 619.9897 - val_mse: 619.9897 - val_mae: 22.9657 - val_mape: 99.5671\n",
      "Epoch 59/100\n",
      "12/12 [==============================] - 0s 3ms/step - loss: 598.4138 - mse: 598.4138 - mae: 22.6621 - mape: 99.5679 - val_loss: 619.9897 - val_mse: 619.9897 - val_mae: 22.9657 - val_mape: 99.5671\n",
      "Epoch 60/100\n",
      "12/12 [==============================] - 0s 3ms/step - loss: 598.4138 - mse: 598.4138 - mae: 22.6621 - mape: 99.5679 - val_loss: 619.9897 - val_mse: 619.9897 - val_mae: 22.9657 - val_mape: 99.5671\n",
      "Epoch 61/100\n",
      "12/12 [==============================] - 0s 4ms/step - loss: 598.4138 - mse: 598.4138 - mae: 22.6621 - mape: 99.5679 - val_loss: 619.9897 - val_mse: 619.9897 - val_mae: 22.9657 - val_mape: 99.5671\n",
      "Epoch 62/100\n",
      "12/12 [==============================] - 0s 3ms/step - loss: 598.4138 - mse: 598.4138 - mae: 22.6621 - mape: 99.5679 - val_loss: 619.9897 - val_mse: 619.9897 - val_mae: 22.9657 - val_mape: 99.5671\n",
      "Epoch 63/100\n",
      "12/12 [==============================] - 0s 4ms/step - loss: 598.4139 - mse: 598.4139 - mae: 22.6621 - mape: 99.5679 - val_loss: 619.9897 - val_mse: 619.9897 - val_mae: 22.9657 - val_mape: 99.5671\n",
      "Epoch 64/100\n",
      "12/12 [==============================] - 0s 3ms/step - loss: 598.4138 - mse: 598.4138 - mae: 22.6621 - mape: 99.5679 - val_loss: 619.9897 - val_mse: 619.9897 - val_mae: 22.9657 - val_mape: 99.5671\n",
      "Epoch 65/100\n",
      "12/12 [==============================] - 0s 3ms/step - loss: 598.4138 - mse: 598.4138 - mae: 22.6621 - mape: 99.5679 - val_loss: 619.9897 - val_mse: 619.9897 - val_mae: 22.9657 - val_mape: 99.5671\n",
      "Epoch 66/100\n",
      "12/12 [==============================] - 0s 3ms/step - loss: 598.4138 - mse: 598.4138 - mae: 22.6621 - mape: 99.5679 - val_loss: 619.9897 - val_mse: 619.9897 - val_mae: 22.9657 - val_mape: 99.5671\n",
      "Epoch 67/100\n",
      "12/12 [==============================] - 0s 4ms/step - loss: 598.4138 - mse: 598.4138 - mae: 22.6621 - mape: 99.5679 - val_loss: 619.9897 - val_mse: 619.9897 - val_mae: 22.9657 - val_mape: 99.5671\n",
      "Epoch 68/100\n",
      "12/12 [==============================] - 0s 3ms/step - loss: 598.4138 - mse: 598.4138 - mae: 22.6621 - mape: 99.5679 - val_loss: 619.9897 - val_mse: 619.9897 - val_mae: 22.9657 - val_mape: 99.5671\n",
      "Epoch 69/100\n",
      "12/12 [==============================] - 0s 4ms/step - loss: 598.4138 - mse: 598.4138 - mae: 22.6621 - mape: 99.5679 - val_loss: 619.9897 - val_mse: 619.9897 - val_mae: 22.9657 - val_mape: 99.5671\n",
      "Epoch 70/100\n",
      "12/12 [==============================] - 0s 3ms/step - loss: 598.4138 - mse: 598.4138 - mae: 22.6621 - mape: 99.5679 - val_loss: 619.9897 - val_mse: 619.9897 - val_mae: 22.9657 - val_mape: 99.5671\n",
      "Epoch 71/100\n",
      "12/12 [==============================] - 0s 3ms/step - loss: 598.4138 - mse: 598.4138 - mae: 22.6621 - mape: 99.5679 - val_loss: 619.9897 - val_mse: 619.9897 - val_mae: 22.9657 - val_mape: 99.5671\n",
      "Epoch 72/100\n",
      "12/12 [==============================] - 0s 3ms/step - loss: 598.4138 - mse: 598.4138 - mae: 22.6621 - mape: 99.5679 - val_loss: 619.9897 - val_mse: 619.9897 - val_mae: 22.9657 - val_mape: 99.5671\n",
      "Epoch 73/100\n",
      "12/12 [==============================] - 0s 3ms/step - loss: 598.4138 - mse: 598.4138 - mae: 22.6621 - mape: 99.5679 - val_loss: 619.9897 - val_mse: 619.9897 - val_mae: 22.9657 - val_mape: 99.5671\n",
      "Epoch 74/100\n",
      "12/12 [==============================] - 0s 3ms/step - loss: 598.4138 - mse: 598.4138 - mae: 22.6621 - mape: 99.5679 - val_loss: 619.9897 - val_mse: 619.9897 - val_mae: 22.9657 - val_mape: 99.5671\n",
      "Epoch 75/100\n"
     ]
    },
    {
     "name": "stdout",
     "output_type": "stream",
     "text": [
      "12/12 [==============================] - 0s 3ms/step - loss: 598.4138 - mse: 598.4138 - mae: 22.6621 - mape: 99.5679 - val_loss: 619.9897 - val_mse: 619.9897 - val_mae: 22.9657 - val_mape: 99.5671\n",
      "Epoch 76/100\n",
      "12/12 [==============================] - 0s 3ms/step - loss: 598.4138 - mse: 598.4138 - mae: 22.6621 - mape: 99.5679 - val_loss: 619.9897 - val_mse: 619.9897 - val_mae: 22.9657 - val_mape: 99.5671\n",
      "Epoch 77/100\n",
      "12/12 [==============================] - 0s 3ms/step - loss: 598.4138 - mse: 598.4138 - mae: 22.6621 - mape: 99.5679 - val_loss: 619.9897 - val_mse: 619.9897 - val_mae: 22.9657 - val_mape: 99.5671\n",
      "Epoch 78/100\n",
      "12/12 [==============================] - 0s 3ms/step - loss: 598.4138 - mse: 598.4138 - mae: 22.6621 - mape: 99.5679 - val_loss: 619.9897 - val_mse: 619.9897 - val_mae: 22.9657 - val_mape: 99.5671\n",
      "Epoch 79/100\n",
      "12/12 [==============================] - 0s 4ms/step - loss: 598.4138 - mse: 598.4138 - mae: 22.6621 - mape: 99.5679 - val_loss: 619.9897 - val_mse: 619.9897 - val_mae: 22.9657 - val_mape: 99.5671\n",
      "Epoch 80/100\n",
      "12/12 [==============================] - 0s 3ms/step - loss: 598.4138 - mse: 598.4138 - mae: 22.6621 - mape: 99.5679 - val_loss: 619.9897 - val_mse: 619.9897 - val_mae: 22.9657 - val_mape: 99.5671\n",
      "Epoch 81/100\n",
      "12/12 [==============================] - 0s 3ms/step - loss: 598.4138 - mse: 598.4138 - mae: 22.6621 - mape: 99.5679 - val_loss: 619.9897 - val_mse: 619.9897 - val_mae: 22.9657 - val_mape: 99.5671\n",
      "Epoch 82/100\n",
      "12/12 [==============================] - 0s 3ms/step - loss: 598.4138 - mse: 598.4138 - mae: 22.6621 - mape: 99.5679 - val_loss: 619.9897 - val_mse: 619.9897 - val_mae: 22.9657 - val_mape: 99.5671\n",
      "Epoch 83/100\n",
      "12/12 [==============================] - 0s 3ms/step - loss: 598.4138 - mse: 598.4138 - mae: 22.6621 - mape: 99.5679 - val_loss: 619.9897 - val_mse: 619.9897 - val_mae: 22.9657 - val_mape: 99.5671\n",
      "Epoch 84/100\n",
      "12/12 [==============================] - 0s 4ms/step - loss: 598.4138 - mse: 598.4138 - mae: 22.6621 - mape: 99.5679 - val_loss: 619.9897 - val_mse: 619.9897 - val_mae: 22.9657 - val_mape: 99.5671\n",
      "Epoch 85/100\n",
      "12/12 [==============================] - 0s 3ms/step - loss: 598.4138 - mse: 598.4138 - mae: 22.6621 - mape: 99.5679 - val_loss: 619.9897 - val_mse: 619.9897 - val_mae: 22.9657 - val_mape: 99.5671\n",
      "Epoch 86/100\n",
      "12/12 [==============================] - 0s 3ms/step - loss: 598.4138 - mse: 598.4138 - mae: 22.6621 - mape: 99.5679 - val_loss: 619.9897 - val_mse: 619.9897 - val_mae: 22.9657 - val_mape: 99.5671\n",
      "Epoch 87/100\n",
      "12/12 [==============================] - 0s 3ms/step - loss: 598.4138 - mse: 598.4138 - mae: 22.6621 - mape: 99.5679 - val_loss: 619.9897 - val_mse: 619.9897 - val_mae: 22.9657 - val_mape: 99.5671\n",
      "Epoch 88/100\n",
      "12/12 [==============================] - 0s 3ms/step - loss: 598.4138 - mse: 598.4138 - mae: 22.6621 - mape: 99.5679 - val_loss: 619.9897 - val_mse: 619.9897 - val_mae: 22.9657 - val_mape: 99.5671\n",
      "Epoch 89/100\n",
      "12/12 [==============================] - 0s 3ms/step - loss: 598.4138 - mse: 598.4138 - mae: 22.6621 - mape: 99.5679 - val_loss: 619.9897 - val_mse: 619.9897 - val_mae: 22.9657 - val_mape: 99.5671\n",
      "Epoch 90/100\n",
      "12/12 [==============================] - 0s 3ms/step - loss: 598.4138 - mse: 598.4138 - mae: 22.6621 - mape: 99.5679 - val_loss: 619.9897 - val_mse: 619.9897 - val_mae: 22.9657 - val_mape: 99.5671\n",
      "Epoch 91/100\n",
      "12/12 [==============================] - 0s 3ms/step - loss: 598.4138 - mse: 598.4138 - mae: 22.6621 - mape: 99.5679 - val_loss: 619.9897 - val_mse: 619.9897 - val_mae: 22.9657 - val_mape: 99.5671\n",
      "Epoch 92/100\n",
      "12/12 [==============================] - 0s 3ms/step - loss: 598.4137 - mse: 598.4137 - mae: 22.6621 - mape: 99.5679 - val_loss: 619.9897 - val_mse: 619.9897 - val_mae: 22.9657 - val_mape: 99.5671\n",
      "Epoch 93/100\n",
      "12/12 [==============================] - 0s 3ms/step - loss: 598.4138 - mse: 598.4138 - mae: 22.6621 - mape: 99.5679 - val_loss: 619.9897 - val_mse: 619.9897 - val_mae: 22.9657 - val_mape: 99.5671\n",
      "Epoch 94/100\n",
      "12/12 [==============================] - 0s 3ms/step - loss: 598.4138 - mse: 598.4138 - mae: 22.6621 - mape: 99.5679 - val_loss: 619.9897 - val_mse: 619.9897 - val_mae: 22.9657 - val_mape: 99.5671\n",
      "Epoch 95/100\n",
      "12/12 [==============================] - 0s 4ms/step - loss: 598.4138 - mse: 598.4138 - mae: 22.6621 - mape: 99.5679 - val_loss: 619.9897 - val_mse: 619.9897 - val_mae: 22.9657 - val_mape: 99.5671\n",
      "Epoch 96/100\n",
      "12/12 [==============================] - 0s 4ms/step - loss: 598.4138 - mse: 598.4138 - mae: 22.6621 - mape: 99.5679 - val_loss: 619.9897 - val_mse: 619.9897 - val_mae: 22.9657 - val_mape: 99.5671\n",
      "Epoch 97/100\n",
      "12/12 [==============================] - 0s 3ms/step - loss: 598.4138 - mse: 598.4138 - mae: 22.6621 - mape: 99.5679 - val_loss: 619.9897 - val_mse: 619.9897 - val_mae: 22.9657 - val_mape: 99.5671\n",
      "Epoch 98/100\n",
      "12/12 [==============================] - 0s 3ms/step - loss: 598.4138 - mse: 598.4138 - mae: 22.6621 - mape: 99.5679 - val_loss: 619.9897 - val_mse: 619.9897 - val_mae: 22.9657 - val_mape: 99.5671\n",
      "Epoch 99/100\n",
      "12/12 [==============================] - 0s 3ms/step - loss: 598.4138 - mse: 598.4138 - mae: 22.6621 - mape: 99.5679 - val_loss: 619.9897 - val_mse: 619.9897 - val_mae: 22.9657 - val_mape: 99.5671\n",
      "Epoch 100/100\n",
      "12/12 [==============================] - 0s 3ms/step - loss: 598.4138 - mse: 598.4138 - mae: 22.6621 - mape: 99.5679 - val_loss: 619.9897 - val_mse: 619.9897 - val_mae: 22.9657 - val_mape: 99.5671\n"
     ]
    }
   ],
   "source": [
    "hist = model.fit(X_train,Y_train,validation_data = (X_val,Y_val),epochs=100) "
   ]
  },
  {
   "cell_type": "code",
   "execution_count": 34,
   "metadata": {
    "scrolled": true
   },
   "outputs": [
    {
     "data": {
      "image/png": "[encoded data removed]",
      "text/plain": [
       "<Figure size 432x288 with 1 Axes>"
      ]
     },
     "metadata": {
      "needs_background": "light"
     },
     "output_type": "display_data"
    }
   ],
   "source": [
    "plt.plot(hist.history['mse'])\n",
    "plt.plot(hist.history['val_mse'])\n",
    "plt.title('Model Performance')\n",
    "plt.ylabel('MSE')\n",
    "plt.xlabel('Epoch')\n",
    "plt.legend(['Train', 'Val'], loc='upper right')\n",
    "plt.show()"
   ]
  },
  {
   "cell_type": "markdown",
   "metadata": {},
   "source": [
    "#### Task-17: evaluate the model on X_test and Y_test by applying the method 'evaluate'  (5 points)"
   ]
  },
  {
   "cell_type": "code",
   "execution_count": 35,
   "metadata": {},
   "outputs": [
    {
     "name": "stdout",
     "output_type": "stream",
     "text": [
      "8/8 [==============================] - 0s 877us/step - loss: 556.9598 - mse: 556.9598 - mae: 21.9333 - mape: 99.5575\n"
     ]
    },
    {
     "data": {
      "text/plain": [
       "[556.9598388671875, 556.9598388671875, 21.933269500732422, 99.5574951171875]"
      ]
     },
     "execution_count": 35,
     "metadata": {},
     "output_type": "execute_result"
    }
   ],
   "source": [
    "# Evaluation\n",
    "model.evaluate(\n",
    "    x=X_test, y=Y_test, batch_size=None, verbose=1, sample_weight=None, steps=None,\n",
    "    callbacks=None, max_queue_size=10, workers=1, use_multiprocessing=False,\n",
    "    return_dict=False)\n",
    "\n"
   ]
  },
  {
   "cell_type": "markdown",
   "metadata": {},
   "source": [
    "#### NON-mandatory task: if you have time/interest, you can visualize the prediction result and labels using scatter."
   ]
  },
  {
   "cell_type": "code",
   "execution_count": null,
   "metadata": {},
   "outputs": [],
   "source": []
  },
  {
   "cell_type": "code",
   "execution_count": 36,
   "metadata": {},
   "outputs": [],
   "source": [
    "from tensorflow.keras import regularizers\n",
    "from tensorflow.keras.layers import Dropout"
   ]
  },
  {
   "cell_type": "markdown",
   "metadata": {},
   "source": [
    "#### Task-18:  Build the second neural network  model by completing the following codes (steps1 - step4). Here you are required to add two more optimization settings (e.g., regularizer parameter, and dropout) to train, evaluate, and predict as you did above.  (10 points)"
   ]
  },
  {
   "cell_type": "code",
   "execution_count": 37,
   "metadata": {},
   "outputs": [
    {
     "name": "stdout",
     "output_type": "stream",
     "text": [
      "Epoch 1/100\n",
      "WARNING:tensorflow:Layer dense_2 is casting an input tensor from dtype float64 to the layer's dtype of float32, which is new behavior in TensorFlow 2.  The layer has dtype float32 because its dtype defaults to floatx.\n",
      "\n",
      "If you intended to run this layer in float32, you can safely ignore this warning. If in doubt, this warning is likely only an issue if you are porting a TensorFlow 1.X model to TensorFlow 2.\n",
      "\n",
      "To change all layers to have dtype float64 by default, call `tf.keras.backend.set_floatx('float64')`. To change just this layer, pass dtype='float64' to the layer constructor. If you are the author of this layer, you can disable autocasting by passing autocast=False to the base Layer constructor.\n",
      "\n",
      "12/12 [==============================] - 0s 22ms/step - loss: 578.9127 - mse: 578.9127 - mae: 22.2291 - mape: 97.3210 - val_loss: 599.1110 - val_mse: 599.1110 - val_mae: 22.5086 - val_mape: 97.1960\n",
      "Epoch 2/100\n",
      "12/12 [==============================] - 0s 4ms/step - loss: 577.2872 - mse: 577.2872 - mae: 22.1941 - mape: 97.1467 - val_loss: 597.6785 - val_mse: 597.6785 - val_mae: 22.4764 - val_mape: 97.0251\n",
      "Epoch 3/100\n",
      "12/12 [==============================] - 0s 4ms/step - loss: 575.8977 - mse: 575.8977 - mae: 22.1629 - mape: 96.9858 - val_loss: 596.3076 - val_mse: 596.3076 - val_mae: 22.4458 - val_mape: 96.8664\n",
      "Epoch 4/100\n",
      "12/12 [==============================] - 0s 3ms/step - loss: 574.6114 - mse: 574.6114 - mae: 22.1317 - mape: 96.8150 - val_loss: 594.7352 - val_mse: 594.7352 - val_mae: 22.4108 - val_mape: 96.6842\n",
      "Epoch 5/100\n",
      "12/12 [==============================] - 0s 4ms/step - loss: 572.9446 - mse: 572.9446 - mae: 22.0973 - mape: 96.6533 - val_loss: 593.1031 - val_mse: 593.1031 - val_mae: 22.3743 - val_mape: 96.4949\n",
      "Epoch 6/100\n",
      "12/12 [==============================] - 0s 4ms/step - loss: 571.4064 - mse: 571.4064 - mae: 22.0601 - mape: 96.4547 - val_loss: 591.4547 - val_mse: 591.4547 - val_mae: 22.3374 - val_mape: 96.3033\n",
      "Epoch 7/100\n",
      "12/12 [==============================] - 0s 4ms/step - loss: 569.4567 - mse: 569.4567 - mae: 22.0180 - mape: 96.2332 - val_loss: 589.7151 - val_mse: 589.7151 - val_mae: 22.2985 - val_mape: 96.1009\n",
      "Epoch 8/100\n",
      "12/12 [==============================] - 0s 3ms/step - loss: 568.1680 - mse: 568.1680 - mae: 21.9864 - mape: 96.0659 - val_loss: 588.0337 - val_mse: 588.0337 - val_mae: 22.2607 - val_mape: 95.9049\n",
      "Epoch 9/100\n",
      "12/12 [==============================] - 0s 3ms/step - loss: 566.4661 - mse: 566.4661 - mae: 21.9504 - mape: 95.8885 - val_loss: 586.5208 - val_mse: 586.5208 - val_mae: 22.2267 - val_mape: 95.7282\n",
      "Epoch 10/100\n",
      "12/12 [==============================] - 0s 4ms/step - loss: 565.5207 - mse: 565.5207 - mae: 21.9257 - mape: 95.7507 - val_loss: 585.1161 - val_mse: 585.1161 - val_mae: 22.1951 - val_mape: 95.5640\n",
      "Epoch 11/100\n",
      "12/12 [==============================] - 0s 4ms/step - loss: 564.1619 - mse: 564.1619 - mae: 21.8971 - mape: 95.6123 - val_loss: 583.8744 - val_mse: 583.8744 - val_mae: 22.1671 - val_mape: 95.4186\n",
      "Epoch 12/100\n",
      "12/12 [==============================] - 0s 4ms/step - loss: 562.8485 - mse: 562.8485 - mae: 21.8663 - mape: 95.4407 - val_loss: 582.7608 - val_mse: 582.7608 - val_mae: 22.1420 - val_mape: 95.2881\n",
      "Epoch 13/100\n",
      "12/12 [==============================] - 0s 4ms/step - loss: 562.0125 - mse: 562.0125 - mae: 21.8469 - mape: 95.3396 - val_loss: 581.8155 - val_mse: 581.8155 - val_mae: 22.1207 - val_mape: 95.1772\n",
      "Epoch 14/100\n",
      "12/12 [==============================] - 0s 4ms/step - loss: 560.8881 - mse: 560.8881 - mae: 21.8221 - mape: 95.2264 - val_loss: 581.0752 - val_mse: 581.0752 - val_mae: 22.1039 - val_mape: 95.0903\n",
      "Epoch 15/100\n",
      "12/12 [==============================] - 0s 4ms/step - loss: 560.3784 - mse: 560.3784 - mae: 21.8091 - mape: 95.1451 - val_loss: 580.4767 - val_mse: 580.4767 - val_mae: 22.0904 - val_mape: 95.0199\n",
      "Epoch 16/100\n",
      "12/12 [==============================] - 0s 3ms/step - loss: 559.8143 - mse: 559.8143 - mae: 21.7946 - mape: 95.0615 - val_loss: 580.0090 - val_mse: 580.0090 - val_mae: 22.0798 - val_mape: 94.9649\n",
      "Epoch 17/100\n",
      "12/12 [==============================] - 0s 4ms/step - loss: 559.3336 - mse: 559.3336 - mae: 21.7855 - mape: 95.0294 - val_loss: 579.6381 - val_mse: 579.6381 - val_mae: 22.0714 - val_mape: 94.9213\n",
      "Epoch 18/100\n",
      "12/12 [==============================] - 0s 4ms/step - loss: 558.9991 - mse: 558.9991 - mae: 21.7778 - mape: 94.9869 - val_loss: 579.3468 - val_mse: 579.3468 - val_mae: 22.0648 - val_mape: 94.8870\n",
      "Epoch 19/100\n",
      "12/12 [==============================] - 0s 3ms/step - loss: 558.7153 - mse: 558.7153 - mae: 21.7703 - mape: 94.9449 - val_loss: 579.1534 - val_mse: 579.1534 - val_mae: 22.0604 - val_mape: 94.8642\n",
      "Epoch 20/100\n",
      "12/12 [==============================] - 0s 4ms/step - loss: 558.4009 - mse: 558.4009 - mae: 21.7635 - mape: 94.9101 - val_loss: 578.9998 - val_mse: 578.9998 - val_mae: 22.0569 - val_mape: 94.8462\n",
      "Epoch 21/100\n",
      "12/12 [==============================] - 0s 3ms/step - loss: 558.2375 - mse: 558.2375 - mae: 21.7599 - mape: 94.8939 - val_loss: 578.8921 - val_mse: 578.8921 - val_mae: 22.0545 - val_mape: 94.8335\n",
      "Epoch 22/100\n",
      "12/12 [==============================] - 0s 4ms/step - loss: 558.1498 - mse: 558.1498 - mae: 21.7574 - mape: 94.8773 - val_loss: 578.8139 - val_mse: 578.8139 - val_mae: 22.0527 - val_mape: 94.8242\n",
      "Epoch 23/100\n",
      "12/12 [==============================] - 0s 3ms/step - loss: 558.0583 - mse: 558.0583 - mae: 21.7553 - mape: 94.8657 - val_loss: 578.7576 - val_mse: 578.7576 - val_mae: 22.0515 - val_mape: 94.8176\n",
      "Epoch 24/100\n",
      "12/12 [==============================] - 0s 3ms/step - loss: 557.9057 - mse: 557.9057 - mae: 21.7518 - mape: 94.8470 - val_loss: 578.7222 - val_mse: 578.7222 - val_mae: 22.0507 - val_mape: 94.8134\n",
      "Epoch 25/100\n",
      "12/12 [==============================] - 0s 4ms/step - loss: 557.8729 - mse: 557.8729 - mae: 21.7510 - mape: 94.8435 - val_loss: 578.6945 - val_mse: 578.6945 - val_mae: 22.0500 - val_mape: 94.8102\n",
      "Epoch 26/100\n",
      "12/12 [==============================] - 0s 3ms/step - loss: 557.8181 - mse: 557.8181 - mae: 21.7497 - mape: 94.8364 - val_loss: 578.6807 - val_mse: 578.6807 - val_mae: 22.0497 - val_mape: 94.8086\n",
      "Epoch 27/100\n",
      "12/12 [==============================] - 0s 4ms/step - loss: 557.7547 - mse: 557.7547 - mae: 21.7484 - mape: 94.8300 - val_loss: 578.6696 - val_mse: 578.6696 - val_mae: 22.0495 - val_mape: 94.8073\n",
      "Epoch 28/100\n",
      "12/12 [==============================] - 0s 4ms/step - loss: 557.7418 - mse: 557.7418 - mae: 21.7481 - mape: 94.8286 - val_loss: 578.6633 - val_mse: 578.6633 - val_mae: 22.0493 - val_mape: 94.8065\n",
      "Epoch 29/100\n",
      "12/12 [==============================] - 0s 4ms/step - loss: 557.7023 - mse: 557.7023 - mae: 21.7472 - mape: 94.8237 - val_loss: 578.6592 - val_mse: 578.6592 - val_mae: 22.0492 - val_mape: 94.8060\n",
      "Epoch 30/100\n",
      "12/12 [==============================] - 0s 3ms/step - loss: 557.6937 - mse: 557.6937 - mae: 21.7469 - mape: 94.8229 - val_loss: 578.6559 - val_mse: 578.6559 - val_mae: 22.0491 - val_mape: 94.8056\n",
      "Epoch 31/100\n",
      "12/12 [==============================] - 0s 4ms/step - loss: 557.6910 - mse: 557.6910 - mae: 21.7469 - mape: 94.8218 - val_loss: 578.6534 - val_mse: 578.6534 - val_mae: 22.0491 - val_mape: 94.8053\n",
      "Epoch 32/100\n",
      "12/12 [==============================] - 0s 3ms/step - loss: 557.6666 - mse: 557.6666 - mae: 21.7464 - mape: 94.8198 - val_loss: 578.6520 - val_mse: 578.6520 - val_mae: 22.0491 - val_mape: 94.8052\n",
      "Epoch 33/100\n",
      "12/12 [==============================] - 0s 4ms/step - loss: 557.6568 - mse: 557.6568 - mae: 21.7461 - mape: 94.8181 - val_loss: 578.6513 - val_mse: 578.6513 - val_mae: 22.0490 - val_mape: 94.8051\n",
      "Epoch 34/100\n",
      "12/12 [==============================] - 0s 3ms/step - loss: 557.6581 - mse: 557.6581 - mae: 21.7461 - mape: 94.8173 - val_loss: 578.6508 - val_mse: 578.6508 - val_mae: 22.0490 - val_mape: 94.8050\n",
      "Epoch 35/100\n",
      "12/12 [==============================] - 0s 4ms/step - loss: 557.6495 - mse: 557.6495 - mae: 21.7459 - mape: 94.8171 - val_loss: 578.6505 - val_mse: 578.6505 - val_mae: 22.0490 - val_mape: 94.8050\n",
      "Epoch 36/100\n",
      "12/12 [==============================] - 0s 3ms/step - loss: 557.6458 - mse: 557.6458 - mae: 21.7458 - mape: 94.8164 - val_loss: 578.6501 - val_mse: 578.6501 - val_mae: 22.0490 - val_mape: 94.8050\n"
     ]
    },
    {
     "name": "stdout",
     "output_type": "stream",
     "text": [
      "Epoch 37/100\n",
      "12/12 [==============================] - 0s 3ms/step - loss: 557.6404 - mse: 557.6404 - mae: 21.7457 - mape: 94.8160 - val_loss: 578.6501 - val_mse: 578.6501 - val_mae: 22.0490 - val_mape: 94.8049\n",
      "Epoch 38/100\n",
      "12/12 [==============================] - 0s 3ms/step - loss: 557.6384 - mse: 557.6384 - mae: 21.7457 - mape: 94.8155 - val_loss: 578.6500 - val_mse: 578.6500 - val_mae: 22.0490 - val_mape: 94.8049\n",
      "Epoch 39/100\n",
      "12/12 [==============================] - 0s 4ms/step - loss: 557.6366 - mse: 557.6366 - mae: 21.7456 - mape: 94.8153 - val_loss: 578.6500 - val_mse: 578.6500 - val_mae: 22.0490 - val_mape: 94.8049\n",
      "Epoch 40/100\n",
      "12/12 [==============================] - 0s 6ms/step - loss: 557.6343 - mse: 557.6343 - mae: 21.7456 - mape: 94.8151 - val_loss: 578.6500 - val_mse: 578.6500 - val_mae: 22.0490 - val_mape: 94.8049\n",
      "Epoch 41/100\n",
      "12/12 [==============================] - 0s 4ms/step - loss: 557.6337 - mse: 557.6337 - mae: 21.7456 - mape: 94.8149 - val_loss: 578.6499 - val_mse: 578.6499 - val_mae: 22.0490 - val_mape: 94.8049\n",
      "Epoch 42/100\n",
      "12/12 [==============================] - 0s 4ms/step - loss: 557.6334 - mse: 557.6334 - mae: 21.7455 - mape: 94.8149 - val_loss: 578.6499 - val_mse: 578.6499 - val_mae: 22.0490 - val_mape: 94.8049\n",
      "Epoch 43/100\n",
      "12/12 [==============================] - 0s 4ms/step - loss: 557.6320 - mse: 557.6320 - mae: 21.7455 - mape: 94.8147 - val_loss: 578.6499 - val_mse: 578.6499 - val_mae: 22.0490 - val_mape: 94.8049\n",
      "Epoch 44/100\n",
      "12/12 [==============================] - 0s 3ms/step - loss: 557.6319 - mse: 557.6319 - mae: 21.7455 - mape: 94.8147 - val_loss: 578.6499 - val_mse: 578.6499 - val_mae: 22.0490 - val_mape: 94.8049\n",
      "Epoch 45/100\n",
      "12/12 [==============================] - 0s 3ms/step - loss: 557.6313 - mse: 557.6313 - mae: 21.7455 - mape: 94.8147 - val_loss: 578.6499 - val_mse: 578.6499 - val_mae: 22.0490 - val_mape: 94.8049\n",
      "Epoch 46/100\n",
      "12/12 [==============================] - 0s 3ms/step - loss: 557.6312 - mse: 557.6312 - mae: 21.7455 - mape: 94.8146 - val_loss: 578.6499 - val_mse: 578.6499 - val_mae: 22.0490 - val_mape: 94.8049\n",
      "Epoch 47/100\n",
      "12/12 [==============================] - 0s 4ms/step - loss: 557.6309 - mse: 557.6309 - mae: 21.7455 - mape: 94.8146 - val_loss: 578.6499 - val_mse: 578.6499 - val_mae: 22.0490 - val_mape: 94.8049\n",
      "Epoch 48/100\n",
      "12/12 [==============================] - 0s 3ms/step - loss: 557.6308 - mse: 557.6308 - mae: 21.7455 - mape: 94.8146 - val_loss: 578.6499 - val_mse: 578.6499 - val_mae: 22.0490 - val_mape: 94.8049\n",
      "Epoch 49/100\n",
      "12/12 [==============================] - 0s 3ms/step - loss: 557.6307 - mse: 557.6307 - mae: 21.7455 - mape: 94.8146 - val_loss: 578.6499 - val_mse: 578.6499 - val_mae: 22.0490 - val_mape: 94.8049\n",
      "Epoch 50/100\n",
      "12/12 [==============================] - 0s 4ms/step - loss: 557.6306 - mse: 557.6306 - mae: 21.7455 - mape: 94.8146 - val_loss: 578.6499 - val_mse: 578.6499 - val_mae: 22.0490 - val_mape: 94.8049\n",
      "Epoch 51/100\n",
      "12/12 [==============================] - 0s 3ms/step - loss: 557.6306 - mse: 557.6306 - mae: 21.7455 - mape: 94.8146 - val_loss: 578.6499 - val_mse: 578.6499 - val_mae: 22.0490 - val_mape: 94.8049\n",
      "Epoch 52/100\n",
      "12/12 [==============================] - 0s 3ms/step - loss: 557.6305 - mse: 557.6305 - mae: 21.7455 - mape: 94.8146 - val_loss: 578.6499 - val_mse: 578.6499 - val_mae: 22.0490 - val_mape: 94.8049\n",
      "Epoch 53/100\n",
      "12/12 [==============================] - 0s 3ms/step - loss: 557.6305 - mse: 557.6305 - mae: 21.7455 - mape: 94.8146 - val_loss: 578.6499 - val_mse: 578.6499 - val_mae: 22.0490 - val_mape: 94.8049\n",
      "Epoch 54/100\n",
      "12/12 [==============================] - 0s 3ms/step - loss: 557.6305 - mse: 557.6305 - mae: 21.7455 - mape: 94.8146 - val_loss: 578.6499 - val_mse: 578.6499 - val_mae: 22.0490 - val_mape: 94.8049\n",
      "Epoch 55/100\n",
      "12/12 [==============================] - 0s 4ms/step - loss: 557.6304 - mse: 557.6304 - mae: 21.7455 - mape: 94.8146 - val_loss: 578.6499 - val_mse: 578.6499 - val_mae: 22.0490 - val_mape: 94.8049\n",
      "Epoch 56/100\n",
      "12/12 [==============================] - 0s 3ms/step - loss: 557.6305 - mse: 557.6305 - mae: 21.7455 - mape: 94.8146 - val_loss: 578.6499 - val_mse: 578.6499 - val_mae: 22.0490 - val_mape: 94.8049\n",
      "Epoch 57/100\n",
      "12/12 [==============================] - 0s 3ms/step - loss: 557.6304 - mse: 557.6304 - mae: 21.7455 - mape: 94.8145 - val_loss: 578.6499 - val_mse: 578.6499 - val_mae: 22.0490 - val_mape: 94.8049\n",
      "Epoch 58/100\n",
      "12/12 [==============================] - 0s 3ms/step - loss: 557.6304 - mse: 557.6304 - mae: 21.7455 - mape: 94.8146 - val_loss: 578.6499 - val_mse: 578.6499 - val_mae: 22.0490 - val_mape: 94.8049\n",
      "Epoch 59/100\n",
      "12/12 [==============================] - 0s 4ms/step - loss: 557.6304 - mse: 557.6304 - mae: 21.7455 - mape: 94.8146 - val_loss: 578.6499 - val_mse: 578.6499 - val_mae: 22.0490 - val_mape: 94.8049\n",
      "Epoch 60/100\n",
      "12/12 [==============================] - 0s 3ms/step - loss: 557.6305 - mse: 557.6305 - mae: 21.7455 - mape: 94.8146 - val_loss: 578.6499 - val_mse: 578.6499 - val_mae: 22.0490 - val_mape: 94.8049\n",
      "Epoch 61/100\n",
      "12/12 [==============================] - 0s 4ms/step - loss: 557.6304 - mse: 557.6304 - mae: 21.7455 - mape: 94.8146 - val_loss: 578.6499 - val_mse: 578.6499 - val_mae: 22.0490 - val_mape: 94.8049\n",
      "Epoch 62/100\n",
      "12/12 [==============================] - 0s 3ms/step - loss: 557.6304 - mse: 557.6304 - mae: 21.7455 - mape: 94.8146 - val_loss: 578.6499 - val_mse: 578.6499 - val_mae: 22.0490 - val_mape: 94.8049\n",
      "Epoch 63/100\n",
      "12/12 [==============================] - 0s 3ms/step - loss: 557.6305 - mse: 557.6305 - mae: 21.7455 - mape: 94.8146 - val_loss: 578.6499 - val_mse: 578.6499 - val_mae: 22.0490 - val_mape: 94.8049\n",
      "Epoch 64/100\n",
      "12/12 [==============================] - 0s 4ms/step - loss: 557.6304 - mse: 557.6304 - mae: 21.7455 - mape: 94.8146 - val_loss: 578.6499 - val_mse: 578.6499 - val_mae: 22.0490 - val_mape: 94.8049\n",
      "Epoch 65/100\n",
      "12/12 [==============================] - 0s 4ms/step - loss: 557.6304 - mse: 557.6304 - mae: 21.7455 - mape: 94.8145 - val_loss: 578.6499 - val_mse: 578.6499 - val_mae: 22.0490 - val_mape: 94.8049\n",
      "Epoch 66/100\n",
      "12/12 [==============================] - 0s 3ms/step - loss: 557.6304 - mse: 557.6304 - mae: 21.7455 - mape: 94.8146 - val_loss: 578.6499 - val_mse: 578.6499 - val_mae: 22.0490 - val_mape: 94.8049\n",
      "Epoch 67/100\n",
      "12/12 [==============================] - 0s 4ms/step - loss: 557.6304 - mse: 557.6304 - mae: 21.7455 - mape: 94.8146 - val_loss: 578.6499 - val_mse: 578.6499 - val_mae: 22.0490 - val_mape: 94.8049\n",
      "Epoch 68/100\n",
      "12/12 [==============================] - 0s 4ms/step - loss: 557.6304 - mse: 557.6304 - mae: 21.7455 - mape: 94.8145 - val_loss: 578.6499 - val_mse: 578.6499 - val_mae: 22.0490 - val_mape: 94.8049\n",
      "Epoch 69/100\n",
      "12/12 [==============================] - 0s 4ms/step - loss: 557.6304 - mse: 557.6304 - mae: 21.7455 - mape: 94.8145 - val_loss: 578.6499 - val_mse: 578.6499 - val_mae: 22.0490 - val_mape: 94.8049\n",
      "Epoch 70/100\n",
      "12/12 [==============================] - 0s 4ms/step - loss: 557.6304 - mse: 557.6304 - mae: 21.7455 - mape: 94.8146 - val_loss: 578.6499 - val_mse: 578.6499 - val_mae: 22.0490 - val_mape: 94.8049\n",
      "Epoch 71/100\n",
      "12/12 [==============================] - 0s 4ms/step - loss: 557.6304 - mse: 557.6304 - mae: 21.7455 - mape: 94.8146 - val_loss: 578.6499 - val_mse: 578.6499 - val_mae: 22.0490 - val_mape: 94.8049\n",
      "Epoch 72/100\n",
      "12/12 [==============================] - 0s 4ms/step - loss: 557.6304 - mse: 557.6304 - mae: 21.7455 - mape: 94.8145 - val_loss: 578.6499 - val_mse: 578.6499 - val_mae: 22.0490 - val_mape: 94.8049\n",
      "Epoch 73/100\n",
      "12/12 [==============================] - 0s 4ms/step - loss: 557.6304 - mse: 557.6304 - mae: 21.7455 - mape: 94.8146 - val_loss: 578.6499 - val_mse: 578.6499 - val_mae: 22.0490 - val_mape: 94.8049\n",
      "Epoch 74/100\n",
      "12/12 [==============================] - 0s 4ms/step - loss: 557.6304 - mse: 557.6304 - mae: 21.7455 - mape: 94.8146 - val_loss: 578.6499 - val_mse: 578.6499 - val_mae: 22.0490 - val_mape: 94.8049\n",
      "Epoch 75/100\n",
      "12/12 [==============================] - 0s 4ms/step - loss: 557.6304 - mse: 557.6304 - mae: 21.7455 - mape: 94.8146 - val_loss: 578.6499 - val_mse: 578.6499 - val_mae: 22.0490 - val_mape: 94.8049\n",
      "Epoch 76/100\n"
     ]
    },
    {
     "name": "stdout",
     "output_type": "stream",
     "text": [
      "12/12 [==============================] - 0s 4ms/step - loss: 557.6304 - mse: 557.6304 - mae: 21.7455 - mape: 94.8146 - val_loss: 578.6499 - val_mse: 578.6499 - val_mae: 22.0490 - val_mape: 94.8049\n",
      "Epoch 77/100\n",
      "12/12 [==============================] - 0s 3ms/step - loss: 557.6304 - mse: 557.6304 - mae: 21.7455 - mape: 94.8145 - val_loss: 578.6499 - val_mse: 578.6499 - val_mae: 22.0490 - val_mape: 94.8049\n",
      "Epoch 78/100\n",
      "12/12 [==============================] - 0s 3ms/step - loss: 557.6304 - mse: 557.6304 - mae: 21.7455 - mape: 94.8146 - val_loss: 578.6499 - val_mse: 578.6499 - val_mae: 22.0490 - val_mape: 94.8049\n",
      "Epoch 79/100\n",
      "12/12 [==============================] - 0s 3ms/step - loss: 557.6304 - mse: 557.6304 - mae: 21.7455 - mape: 94.8146 - val_loss: 578.6499 - val_mse: 578.6499 - val_mae: 22.0490 - val_mape: 94.8049\n",
      "Epoch 80/100\n",
      "12/12 [==============================] - 0s 3ms/step - loss: 557.6304 - mse: 557.6304 - mae: 21.7455 - mape: 94.8146 - val_loss: 578.6499 - val_mse: 578.6499 - val_mae: 22.0490 - val_mape: 94.8049\n",
      "Epoch 81/100\n",
      "12/12 [==============================] - 0s 3ms/step - loss: 557.6304 - mse: 557.6304 - mae: 21.7455 - mape: 94.8146 - val_loss: 578.6499 - val_mse: 578.6499 - val_mae: 22.0490 - val_mape: 94.8049\n",
      "Epoch 82/100\n",
      "12/12 [==============================] - 0s 3ms/step - loss: 557.6304 - mse: 557.6304 - mae: 21.7455 - mape: 94.8146 - val_loss: 578.6499 - val_mse: 578.6499 - val_mae: 22.0490 - val_mape: 94.8049\n",
      "Epoch 83/100\n",
      "12/12 [==============================] - 0s 4ms/step - loss: 557.6304 - mse: 557.6304 - mae: 21.7455 - mape: 94.8146 - val_loss: 578.6499 - val_mse: 578.6499 - val_mae: 22.0490 - val_mape: 94.8049\n",
      "Epoch 84/100\n",
      "12/12 [==============================] - 0s 3ms/step - loss: 557.6304 - mse: 557.6304 - mae: 21.7455 - mape: 94.8146 - val_loss: 578.6499 - val_mse: 578.6499 - val_mae: 22.0490 - val_mape: 94.8049\n",
      "Epoch 85/100\n",
      "12/12 [==============================] - 0s 3ms/step - loss: 557.6304 - mse: 557.6304 - mae: 21.7455 - mape: 94.8146 - val_loss: 578.6499 - val_mse: 578.6499 - val_mae: 22.0490 - val_mape: 94.8049\n",
      "Epoch 86/100\n",
      "12/12 [==============================] - 0s 3ms/step - loss: 557.6304 - mse: 557.6304 - mae: 21.7455 - mape: 94.8145 - val_loss: 578.6499 - val_mse: 578.6499 - val_mae: 22.0490 - val_mape: 94.8049\n",
      "Epoch 87/100\n",
      "12/12 [==============================] - 0s 3ms/step - loss: 557.6304 - mse: 557.6304 - mae: 21.7455 - mape: 94.8146 - val_loss: 578.6499 - val_mse: 578.6499 - val_mae: 22.0490 - val_mape: 94.8049\n",
      "Epoch 88/100\n",
      "12/12 [==============================] - 0s 4ms/step - loss: 557.6304 - mse: 557.6304 - mae: 21.7455 - mape: 94.8146 - val_loss: 578.6499 - val_mse: 578.6499 - val_mae: 22.0490 - val_mape: 94.8049\n",
      "Epoch 89/100\n",
      "12/12 [==============================] - 0s 4ms/step - loss: 557.6304 - mse: 557.6304 - mae: 21.7455 - mape: 94.8146 - val_loss: 578.6499 - val_mse: 578.6499 - val_mae: 22.0490 - val_mape: 94.8049\n",
      "Epoch 90/100\n",
      "12/12 [==============================] - 0s 4ms/step - loss: 557.6304 - mse: 557.6304 - mae: 21.7455 - mape: 94.8146 - val_loss: 578.6499 - val_mse: 578.6499 - val_mae: 22.0490 - val_mape: 94.8049\n",
      "Epoch 91/100\n",
      "12/12 [==============================] - 0s 4ms/step - loss: 557.6304 - mse: 557.6304 - mae: 21.7455 - mape: 94.8145 - val_loss: 578.6499 - val_mse: 578.6499 - val_mae: 22.0490 - val_mape: 94.8049\n",
      "Epoch 92/100\n",
      "12/12 [==============================] - 0s 4ms/step - loss: 557.6304 - mse: 557.6304 - mae: 21.7455 - mape: 94.8146 - val_loss: 578.6499 - val_mse: 578.6499 - val_mae: 22.0490 - val_mape: 94.8049\n",
      "Epoch 93/100\n",
      "12/12 [==============================] - 0s 4ms/step - loss: 557.6304 - mse: 557.6304 - mae: 21.7455 - mape: 94.8146 - val_loss: 578.6499 - val_mse: 578.6499 - val_mae: 22.0490 - val_mape: 94.8049\n",
      "Epoch 94/100\n",
      "12/12 [==============================] - 0s 6ms/step - loss: 557.6304 - mse: 557.6304 - mae: 21.7455 - mape: 94.8146 - val_loss: 578.6499 - val_mse: 578.6499 - val_mae: 22.0490 - val_mape: 94.8049\n",
      "Epoch 95/100\n",
      "12/12 [==============================] - 0s 3ms/step - loss: 557.6304 - mse: 557.6304 - mae: 21.7455 - mape: 94.8145 - val_loss: 578.6499 - val_mse: 578.6499 - val_mae: 22.0490 - val_mape: 94.8049\n",
      "Epoch 96/100\n",
      "12/12 [==============================] - 0s 3ms/step - loss: 557.6304 - mse: 557.6304 - mae: 21.7455 - mape: 94.8146 - val_loss: 578.6499 - val_mse: 578.6499 - val_mae: 22.0490 - val_mape: 94.8049\n",
      "Epoch 97/100\n",
      "12/12 [==============================] - 0s 3ms/step - loss: 557.6304 - mse: 557.6304 - mae: 21.7455 - mape: 94.8145 - val_loss: 578.6499 - val_mse: 578.6499 - val_mae: 22.0490 - val_mape: 94.8049\n",
      "Epoch 98/100\n",
      "12/12 [==============================] - 0s 3ms/step - loss: 557.6304 - mse: 557.6304 - mae: 21.7455 - mape: 94.8146 - val_loss: 578.6499 - val_mse: 578.6499 - val_mae: 22.0490 - val_mape: 94.8049\n",
      "Epoch 99/100\n",
      "12/12 [==============================] - 0s 3ms/step - loss: 557.6304 - mse: 557.6304 - mae: 21.7455 - mape: 94.8145 - val_loss: 578.6499 - val_mse: 578.6499 - val_mae: 22.0490 - val_mape: 94.8049\n",
      "Epoch 100/100\n",
      "12/12 [==============================] - 0s 3ms/step - loss: 557.6304 - mse: 557.6304 - mae: 21.7455 - mape: 94.8145 - val_loss: 578.6499 - val_mse: 578.6499 - val_mae: 22.0490 - val_mape: 94.8049\n",
      "8/8 [==============================] - 0s 999us/step - loss: 517.5126 - mse: 517.5126 - mae: 21.0166 - mape: 94.6900\n"
     ]
    },
    {
     "data": {
      "text/plain": [
       "[517.5126342773438, 517.5126342773438, 21.0166015625, 94.68999481201172]"
      ]
     },
     "execution_count": 37,
     "metadata": {},
     "output_type": "execute_result"
    }
   ],
   "source": [
    "# step-1: Build model \n",
    "from keras.layers import Dropout\n",
    "model_2 = Sequential([\n",
    "    Dense(60, activation='relu'),\n",
    "    Dropout(0.2, input_shape=(60,)),\n",
    "    Dense(30, activation='softmax'),\n",
    "    Dropout(0.2, input_shape=(60,)),\n",
    "    Dense(60, activation='relu'),\n",
    "    Dropout(0.2, input_shape=(60,)),\n",
    "    Dense(30, activation='sigmoid'),\n",
    "])\n",
    " \n",
    "\n",
    "# step-2: Compile model\n",
    "model_2.compile(loss='mean_squared_error', metrics=['mse', 'mae', 'mape'])\n",
    "\n",
    "# # step-3: Train/Fit the model\n",
    "hist_2 = model_2.fit(X_train,Y_train,validation_data = (X_val,Y_val),epochs=100) \n",
    "\n",
    "# step-4: Evalution\n",
    "model_2.evaluate(\n",
    "    x=X_test, y=Y_test, batch_size=None, verbose=1, sample_weight=None, steps=None,\n",
    "    callbacks=None, max_queue_size=10, workers=1, use_multiprocessing=False,\n",
    "    return_dict=False)"
   ]
  },
  {
   "cell_type": "code",
   "execution_count": 38,
   "metadata": {},
   "outputs": [
    {
     "data": {
      "image/png": "[encoded data removed]",
      "text/plain": [
       "<Figure size 432x288 with 1 Axes>"
      ]
     },
     "metadata": {
      "needs_background": "light"
     },
     "output_type": "display_data"
    }
   ],
   "source": [
    "plt.plot(hist_2.history['mse'])\n",
    "plt.plot(hist_2.history['val_mse'])\n",
    "plt.title('Model Performance')\n",
    "plt.ylabel('MSE')\n",
    "plt.xlabel('Epoch')\n",
    "plt.legend(['Train', 'Val'], loc='upper right')\n",
    "plt.show()"
   ]
  },
  {
   "cell_type": "markdown",
   "metadata": {},
   "source": [
    "#### Task-19:  Now, let's try to train and validate a third neural network on given Boston dataset using codes above (i.e., tensorflow) or any other libraries you prefer (e.g., Pytorch).  (50 points)\n",
    "In this training and validation process, you are required to explore more optimization settings, such as two other different suitable activiation functions, Keras optimizers (we only learned sgd in course), different batch sizes, different loss functions. Afterwards, find by yourself a small test dataset or part of a big dataset (e.g., around 100 data samples), test your trained model on this new dataset, and print out the performance (e.g., mse, rmse). Do not forget to include your provided test datset file in submission zip.  "
   ]
  },
  {
   "cell_type": "code",
   "execution_count": null,
   "metadata": {},
   "outputs": [],
   "source": [
    "\n"
   ]
  },
  {
   "cell_type": "markdown",
   "metadata": {},
   "source": [
    "##### Task-20: Discussion and analysis on above experimental results regarding different algorithms, different settings and performance. (15 points) "
   ]
  },
  {
   "cell_type": "markdown",
   "metadata": {},
   "source": [
    "Linear regression: Here we need to find co-efficent values and then we calculate mse and mae.\n",
    "\n",
    "Neural networks: Here split the dataset into different neurons. For each layer neurons we calculate mse and mae.\n",
    "\n",
    "Comparision: \n"
   ]
  },
  {
   "cell_type": "raw",
   "metadata": {},
   "source": [
    "Question: How about the impact of attribute \"-B\" on the prediction of price and how do you think the ethic issue about usage of this attribute? Background info: \"-B\" is a controversial attribute which represents the proportion of black people. Due to this, this dataset is deprecated in 1.0 and will be removed in 1.2 in scikit learn. (5 points)"
   ]
  },
  {
   "cell_type": "markdown",
   "metadata": {},
   "source": [
    "House price vary for \"-B\" attribute. Proportion of black people is also a important fature for Boston house prices. Using \"-B\" attribute we create a discrimination between black people and others. So this attribute leads ethical issue. "
   ]
  },
  {
   "cell_type": "markdown",
   "metadata": {},
   "source": [
    "#### Question: Any thoughts and suggestions on this assignment? (5 points)"
   ]
  },
  {
   "cell_type": "markdown",
   "metadata": {},
   "source": [
    "Answer: No suggestions. I learn a lot about pandas, python and how can use dataset. I also learn how to apply algorithms on dataset."
   ]
  },
  {
   "cell_type": "markdown",
   "metadata": {},
   "source": [
    "#### Congratualtions if you ran through above!  "
   ]
  }
 ],
 "metadata": {
  "kernelspec": {
   "display_name": "Python 3",
   "language": "python",
   "name": "python3"
  },
  "language_info": {
   "codemirror_mode": {
    "name": "ipython",
    "version": 3
   },
   "file_extension": ".py",
   "mimetype": "text/x-python",
   "name": "python",
   "nbconvert_exporter": "python",
   "pygments_lexer": "ipython3",
   "version": "3.8.8"
  }
 },
 "nbformat": 4,
 "nbformat_minor": 4
}
